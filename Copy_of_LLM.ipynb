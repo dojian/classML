{
  "nbformat": 4,
  "nbformat_minor": 0,
  "metadata": {
    "colab": {
      "provenance": [],
      "gpuType": "T4",
      "toc_visible": true,
      "include_colab_link": true
    },
    "kernelspec": {
      "name": "python3",
      "display_name": "Python 3"
    },
    "language_info": {
      "name": "python"
    },
    "accelerator": "GPU",
    "widgets": {
      "application/vnd.jupyter.widget-state+json": {
        "350be8478d054584bd6e54fd1753b530": {
          "model_module": "@jupyter-widgets/controls",
          "model_name": "HBoxModel",
          "model_module_version": "1.5.0",
          "state": {
            "_dom_classes": [],
            "_model_module": "@jupyter-widgets/controls",
            "_model_module_version": "1.5.0",
            "_model_name": "HBoxModel",
            "_view_count": null,
            "_view_module": "@jupyter-widgets/controls",
            "_view_module_version": "1.5.0",
            "_view_name": "HBoxView",
            "box_style": "",
            "children": [
              "IPY_MODEL_dbbb7f043efe4642958efa82982f1ccc",
              "IPY_MODEL_ddadc60536c3460abcda80355c5cfec2",
              "IPY_MODEL_48cbe111fb2f44e0ad418d9ae4ff664c"
            ],
            "layout": "IPY_MODEL_95288eb378b54d4482e7da85d9400d29"
          }
        },
        "dbbb7f043efe4642958efa82982f1ccc": {
          "model_module": "@jupyter-widgets/controls",
          "model_name": "HTMLModel",
          "model_module_version": "1.5.0",
          "state": {
            "_dom_classes": [],
            "_model_module": "@jupyter-widgets/controls",
            "_model_module_version": "1.5.0",
            "_model_name": "HTMLModel",
            "_view_count": null,
            "_view_module": "@jupyter-widgets/controls",
            "_view_module_version": "1.5.0",
            "_view_name": "HTMLView",
            "description": "",
            "description_tooltip": null,
            "layout": "IPY_MODEL_997e5413b3764df3883ff3bcb15b6639",
            "placeholder": "​",
            "style": "IPY_MODEL_60b9a99dbf2b4781ab5ed78fb7656218",
            "value": "Loading checkpoint shards: 100%"
          }
        },
        "ddadc60536c3460abcda80355c5cfec2": {
          "model_module": "@jupyter-widgets/controls",
          "model_name": "FloatProgressModel",
          "model_module_version": "1.5.0",
          "state": {
            "_dom_classes": [],
            "_model_module": "@jupyter-widgets/controls",
            "_model_module_version": "1.5.0",
            "_model_name": "FloatProgressModel",
            "_view_count": null,
            "_view_module": "@jupyter-widgets/controls",
            "_view_module_version": "1.5.0",
            "_view_name": "ProgressView",
            "bar_style": "success",
            "description": "",
            "description_tooltip": null,
            "layout": "IPY_MODEL_70043739b205446a9f1a93432fedd0b5",
            "max": 8,
            "min": 0,
            "orientation": "horizontal",
            "style": "IPY_MODEL_e1729bd4c9f64b338c7237ccf2d985d7",
            "value": 8
          }
        },
        "48cbe111fb2f44e0ad418d9ae4ff664c": {
          "model_module": "@jupyter-widgets/controls",
          "model_name": "HTMLModel",
          "model_module_version": "1.5.0",
          "state": {
            "_dom_classes": [],
            "_model_module": "@jupyter-widgets/controls",
            "_model_module_version": "1.5.0",
            "_model_name": "HTMLModel",
            "_view_count": null,
            "_view_module": "@jupyter-widgets/controls",
            "_view_module_version": "1.5.0",
            "_view_name": "HTMLView",
            "description": "",
            "description_tooltip": null,
            "layout": "IPY_MODEL_d6bb4414217d4fb19ac389a0ba75960e",
            "placeholder": "​",
            "style": "IPY_MODEL_9b91c70321ab43288ce3680e93d6d76b",
            "value": " 8/8 [01:16&lt;00:00,  8.47s/it]"
          }
        },
        "95288eb378b54d4482e7da85d9400d29": {
          "model_module": "@jupyter-widgets/base",
          "model_name": "LayoutModel",
          "model_module_version": "1.2.0",
          "state": {
            "_model_module": "@jupyter-widgets/base",
            "_model_module_version": "1.2.0",
            "_model_name": "LayoutModel",
            "_view_count": null,
            "_view_module": "@jupyter-widgets/base",
            "_view_module_version": "1.2.0",
            "_view_name": "LayoutView",
            "align_content": null,
            "align_items": null,
            "align_self": null,
            "border": null,
            "bottom": null,
            "display": null,
            "flex": null,
            "flex_flow": null,
            "grid_area": null,
            "grid_auto_columns": null,
            "grid_auto_flow": null,
            "grid_auto_rows": null,
            "grid_column": null,
            "grid_gap": null,
            "grid_row": null,
            "grid_template_areas": null,
            "grid_template_columns": null,
            "grid_template_rows": null,
            "height": null,
            "justify_content": null,
            "justify_items": null,
            "left": null,
            "margin": null,
            "max_height": null,
            "max_width": null,
            "min_height": null,
            "min_width": null,
            "object_fit": null,
            "object_position": null,
            "order": null,
            "overflow": null,
            "overflow_x": null,
            "overflow_y": null,
            "padding": null,
            "right": null,
            "top": null,
            "visibility": null,
            "width": null
          }
        },
        "997e5413b3764df3883ff3bcb15b6639": {
          "model_module": "@jupyter-widgets/base",
          "model_name": "LayoutModel",
          "model_module_version": "1.2.0",
          "state": {
            "_model_module": "@jupyter-widgets/base",
            "_model_module_version": "1.2.0",
            "_model_name": "LayoutModel",
            "_view_count": null,
            "_view_module": "@jupyter-widgets/base",
            "_view_module_version": "1.2.0",
            "_view_name": "LayoutView",
            "align_content": null,
            "align_items": null,
            "align_self": null,
            "border": null,
            "bottom": null,
            "display": null,
            "flex": null,
            "flex_flow": null,
            "grid_area": null,
            "grid_auto_columns": null,
            "grid_auto_flow": null,
            "grid_auto_rows": null,
            "grid_column": null,
            "grid_gap": null,
            "grid_row": null,
            "grid_template_areas": null,
            "grid_template_columns": null,
            "grid_template_rows": null,
            "height": null,
            "justify_content": null,
            "justify_items": null,
            "left": null,
            "margin": null,
            "max_height": null,
            "max_width": null,
            "min_height": null,
            "min_width": null,
            "object_fit": null,
            "object_position": null,
            "order": null,
            "overflow": null,
            "overflow_x": null,
            "overflow_y": null,
            "padding": null,
            "right": null,
            "top": null,
            "visibility": null,
            "width": null
          }
        },
        "60b9a99dbf2b4781ab5ed78fb7656218": {
          "model_module": "@jupyter-widgets/controls",
          "model_name": "DescriptionStyleModel",
          "model_module_version": "1.5.0",
          "state": {
            "_model_module": "@jupyter-widgets/controls",
            "_model_module_version": "1.5.0",
            "_model_name": "DescriptionStyleModel",
            "_view_count": null,
            "_view_module": "@jupyter-widgets/base",
            "_view_module_version": "1.2.0",
            "_view_name": "StyleView",
            "description_width": ""
          }
        },
        "70043739b205446a9f1a93432fedd0b5": {
          "model_module": "@jupyter-widgets/base",
          "model_name": "LayoutModel",
          "model_module_version": "1.2.0",
          "state": {
            "_model_module": "@jupyter-widgets/base",
            "_model_module_version": "1.2.0",
            "_model_name": "LayoutModel",
            "_view_count": null,
            "_view_module": "@jupyter-widgets/base",
            "_view_module_version": "1.2.0",
            "_view_name": "LayoutView",
            "align_content": null,
            "align_items": null,
            "align_self": null,
            "border": null,
            "bottom": null,
            "display": null,
            "flex": null,
            "flex_flow": null,
            "grid_area": null,
            "grid_auto_columns": null,
            "grid_auto_flow": null,
            "grid_auto_rows": null,
            "grid_column": null,
            "grid_gap": null,
            "grid_row": null,
            "grid_template_areas": null,
            "grid_template_columns": null,
            "grid_template_rows": null,
            "height": null,
            "justify_content": null,
            "justify_items": null,
            "left": null,
            "margin": null,
            "max_height": null,
            "max_width": null,
            "min_height": null,
            "min_width": null,
            "object_fit": null,
            "object_position": null,
            "order": null,
            "overflow": null,
            "overflow_x": null,
            "overflow_y": null,
            "padding": null,
            "right": null,
            "top": null,
            "visibility": null,
            "width": null
          }
        },
        "e1729bd4c9f64b338c7237ccf2d985d7": {
          "model_module": "@jupyter-widgets/controls",
          "model_name": "ProgressStyleModel",
          "model_module_version": "1.5.0",
          "state": {
            "_model_module": "@jupyter-widgets/controls",
            "_model_module_version": "1.5.0",
            "_model_name": "ProgressStyleModel",
            "_view_count": null,
            "_view_module": "@jupyter-widgets/base",
            "_view_module_version": "1.2.0",
            "_view_name": "StyleView",
            "bar_color": null,
            "description_width": ""
          }
        },
        "d6bb4414217d4fb19ac389a0ba75960e": {
          "model_module": "@jupyter-widgets/base",
          "model_name": "LayoutModel",
          "model_module_version": "1.2.0",
          "state": {
            "_model_module": "@jupyter-widgets/base",
            "_model_module_version": "1.2.0",
            "_model_name": "LayoutModel",
            "_view_count": null,
            "_view_module": "@jupyter-widgets/base",
            "_view_module_version": "1.2.0",
            "_view_name": "LayoutView",
            "align_content": null,
            "align_items": null,
            "align_self": null,
            "border": null,
            "bottom": null,
            "display": null,
            "flex": null,
            "flex_flow": null,
            "grid_area": null,
            "grid_auto_columns": null,
            "grid_auto_flow": null,
            "grid_auto_rows": null,
            "grid_column": null,
            "grid_gap": null,
            "grid_row": null,
            "grid_template_areas": null,
            "grid_template_columns": null,
            "grid_template_rows": null,
            "height": null,
            "justify_content": null,
            "justify_items": null,
            "left": null,
            "margin": null,
            "max_height": null,
            "max_width": null,
            "min_height": null,
            "min_width": null,
            "object_fit": null,
            "object_position": null,
            "order": null,
            "overflow": null,
            "overflow_x": null,
            "overflow_y": null,
            "padding": null,
            "right": null,
            "top": null,
            "visibility": null,
            "width": null
          }
        },
        "9b91c70321ab43288ce3680e93d6d76b": {
          "model_module": "@jupyter-widgets/controls",
          "model_name": "DescriptionStyleModel",
          "model_module_version": "1.5.0",
          "state": {
            "_model_module": "@jupyter-widgets/controls",
            "_model_module_version": "1.5.0",
            "_model_name": "DescriptionStyleModel",
            "_view_count": null,
            "_view_module": "@jupyter-widgets/base",
            "_view_module_version": "1.2.0",
            "_view_name": "StyleView",
            "description_width": ""
          }
        },
        "c9be2cadb6c342979c27d16c51409dc5": {
          "model_module": "@jupyter-widgets/controls",
          "model_name": "HBoxModel",
          "model_module_version": "1.5.0",
          "state": {
            "_dom_classes": [],
            "_model_module": "@jupyter-widgets/controls",
            "_model_module_version": "1.5.0",
            "_model_name": "HBoxModel",
            "_view_count": null,
            "_view_module": "@jupyter-widgets/controls",
            "_view_module_version": "1.5.0",
            "_view_name": "HBoxView",
            "box_style": "",
            "children": [
              "IPY_MODEL_9a1ead8603a544b0adb06e44a64c2845",
              "IPY_MODEL_41f4463d07ed4be9b4be22e27aa8c96e",
              "IPY_MODEL_aee0be8660ab49679b5128713feccc4a"
            ],
            "layout": "IPY_MODEL_dc39e83e848d4fe8a48f09f212733df2"
          }
        },
        "9a1ead8603a544b0adb06e44a64c2845": {
          "model_module": "@jupyter-widgets/controls",
          "model_name": "HTMLModel",
          "model_module_version": "1.5.0",
          "state": {
            "_dom_classes": [],
            "_model_module": "@jupyter-widgets/controls",
            "_model_module_version": "1.5.0",
            "_model_name": "HTMLModel",
            "_view_count": null,
            "_view_module": "@jupyter-widgets/controls",
            "_view_module_version": "1.5.0",
            "_view_name": "HTMLView",
            "description": "",
            "description_tooltip": null,
            "layout": "IPY_MODEL_e33e35c84b9c4b27af0f5126ba4b3a7c",
            "placeholder": "​",
            "style": "IPY_MODEL_4b5bc021579c4685a4733cc864ae5498",
            "value": "Loading checkpoint shards: 100%"
          }
        },
        "41f4463d07ed4be9b4be22e27aa8c96e": {
          "model_module": "@jupyter-widgets/controls",
          "model_name": "FloatProgressModel",
          "model_module_version": "1.5.0",
          "state": {
            "_dom_classes": [],
            "_model_module": "@jupyter-widgets/controls",
            "_model_module_version": "1.5.0",
            "_model_name": "FloatProgressModel",
            "_view_count": null,
            "_view_module": "@jupyter-widgets/controls",
            "_view_module_version": "1.5.0",
            "_view_name": "ProgressView",
            "bar_style": "success",
            "description": "",
            "description_tooltip": null,
            "layout": "IPY_MODEL_c26ad0d4761c4112a9dd400aa460dce1",
            "max": 8,
            "min": 0,
            "orientation": "horizontal",
            "style": "IPY_MODEL_7d690800331a4c3481d25ac64857ee07",
            "value": 8
          }
        },
        "aee0be8660ab49679b5128713feccc4a": {
          "model_module": "@jupyter-widgets/controls",
          "model_name": "HTMLModel",
          "model_module_version": "1.5.0",
          "state": {
            "_dom_classes": [],
            "_model_module": "@jupyter-widgets/controls",
            "_model_module_version": "1.5.0",
            "_model_name": "HTMLModel",
            "_view_count": null,
            "_view_module": "@jupyter-widgets/controls",
            "_view_module_version": "1.5.0",
            "_view_name": "HTMLView",
            "description": "",
            "description_tooltip": null,
            "layout": "IPY_MODEL_053baf09ff3a4d6fa927346ac87e64df",
            "placeholder": "​",
            "style": "IPY_MODEL_52102dede54f445698ca8226998aaf03",
            "value": " 8/8 [01:17&lt;00:00,  8.62s/it]"
          }
        },
        "dc39e83e848d4fe8a48f09f212733df2": {
          "model_module": "@jupyter-widgets/base",
          "model_name": "LayoutModel",
          "model_module_version": "1.2.0",
          "state": {
            "_model_module": "@jupyter-widgets/base",
            "_model_module_version": "1.2.0",
            "_model_name": "LayoutModel",
            "_view_count": null,
            "_view_module": "@jupyter-widgets/base",
            "_view_module_version": "1.2.0",
            "_view_name": "LayoutView",
            "align_content": null,
            "align_items": null,
            "align_self": null,
            "border": null,
            "bottom": null,
            "display": null,
            "flex": null,
            "flex_flow": null,
            "grid_area": null,
            "grid_auto_columns": null,
            "grid_auto_flow": null,
            "grid_auto_rows": null,
            "grid_column": null,
            "grid_gap": null,
            "grid_row": null,
            "grid_template_areas": null,
            "grid_template_columns": null,
            "grid_template_rows": null,
            "height": null,
            "justify_content": null,
            "justify_items": null,
            "left": null,
            "margin": null,
            "max_height": null,
            "max_width": null,
            "min_height": null,
            "min_width": null,
            "object_fit": null,
            "object_position": null,
            "order": null,
            "overflow": null,
            "overflow_x": null,
            "overflow_y": null,
            "padding": null,
            "right": null,
            "top": null,
            "visibility": null,
            "width": null
          }
        },
        "e33e35c84b9c4b27af0f5126ba4b3a7c": {
          "model_module": "@jupyter-widgets/base",
          "model_name": "LayoutModel",
          "model_module_version": "1.2.0",
          "state": {
            "_model_module": "@jupyter-widgets/base",
            "_model_module_version": "1.2.0",
            "_model_name": "LayoutModel",
            "_view_count": null,
            "_view_module": "@jupyter-widgets/base",
            "_view_module_version": "1.2.0",
            "_view_name": "LayoutView",
            "align_content": null,
            "align_items": null,
            "align_self": null,
            "border": null,
            "bottom": null,
            "display": null,
            "flex": null,
            "flex_flow": null,
            "grid_area": null,
            "grid_auto_columns": null,
            "grid_auto_flow": null,
            "grid_auto_rows": null,
            "grid_column": null,
            "grid_gap": null,
            "grid_row": null,
            "grid_template_areas": null,
            "grid_template_columns": null,
            "grid_template_rows": null,
            "height": null,
            "justify_content": null,
            "justify_items": null,
            "left": null,
            "margin": null,
            "max_height": null,
            "max_width": null,
            "min_height": null,
            "min_width": null,
            "object_fit": null,
            "object_position": null,
            "order": null,
            "overflow": null,
            "overflow_x": null,
            "overflow_y": null,
            "padding": null,
            "right": null,
            "top": null,
            "visibility": null,
            "width": null
          }
        },
        "4b5bc021579c4685a4733cc864ae5498": {
          "model_module": "@jupyter-widgets/controls",
          "model_name": "DescriptionStyleModel",
          "model_module_version": "1.5.0",
          "state": {
            "_model_module": "@jupyter-widgets/controls",
            "_model_module_version": "1.5.0",
            "_model_name": "DescriptionStyleModel",
            "_view_count": null,
            "_view_module": "@jupyter-widgets/base",
            "_view_module_version": "1.2.0",
            "_view_name": "StyleView",
            "description_width": ""
          }
        },
        "c26ad0d4761c4112a9dd400aa460dce1": {
          "model_module": "@jupyter-widgets/base",
          "model_name": "LayoutModel",
          "model_module_version": "1.2.0",
          "state": {
            "_model_module": "@jupyter-widgets/base",
            "_model_module_version": "1.2.0",
            "_model_name": "LayoutModel",
            "_view_count": null,
            "_view_module": "@jupyter-widgets/base",
            "_view_module_version": "1.2.0",
            "_view_name": "LayoutView",
            "align_content": null,
            "align_items": null,
            "align_self": null,
            "border": null,
            "bottom": null,
            "display": null,
            "flex": null,
            "flex_flow": null,
            "grid_area": null,
            "grid_auto_columns": null,
            "grid_auto_flow": null,
            "grid_auto_rows": null,
            "grid_column": null,
            "grid_gap": null,
            "grid_row": null,
            "grid_template_areas": null,
            "grid_template_columns": null,
            "grid_template_rows": null,
            "height": null,
            "justify_content": null,
            "justify_items": null,
            "left": null,
            "margin": null,
            "max_height": null,
            "max_width": null,
            "min_height": null,
            "min_width": null,
            "object_fit": null,
            "object_position": null,
            "order": null,
            "overflow": null,
            "overflow_x": null,
            "overflow_y": null,
            "padding": null,
            "right": null,
            "top": null,
            "visibility": null,
            "width": null
          }
        },
        "7d690800331a4c3481d25ac64857ee07": {
          "model_module": "@jupyter-widgets/controls",
          "model_name": "ProgressStyleModel",
          "model_module_version": "1.5.0",
          "state": {
            "_model_module": "@jupyter-widgets/controls",
            "_model_module_version": "1.5.0",
            "_model_name": "ProgressStyleModel",
            "_view_count": null,
            "_view_module": "@jupyter-widgets/base",
            "_view_module_version": "1.2.0",
            "_view_name": "StyleView",
            "bar_color": null,
            "description_width": ""
          }
        },
        "053baf09ff3a4d6fa927346ac87e64df": {
          "model_module": "@jupyter-widgets/base",
          "model_name": "LayoutModel",
          "model_module_version": "1.2.0",
          "state": {
            "_model_module": "@jupyter-widgets/base",
            "_model_module_version": "1.2.0",
            "_model_name": "LayoutModel",
            "_view_count": null,
            "_view_module": "@jupyter-widgets/base",
            "_view_module_version": "1.2.0",
            "_view_name": "LayoutView",
            "align_content": null,
            "align_items": null,
            "align_self": null,
            "border": null,
            "bottom": null,
            "display": null,
            "flex": null,
            "flex_flow": null,
            "grid_area": null,
            "grid_auto_columns": null,
            "grid_auto_flow": null,
            "grid_auto_rows": null,
            "grid_column": null,
            "grid_gap": null,
            "grid_row": null,
            "grid_template_areas": null,
            "grid_template_columns": null,
            "grid_template_rows": null,
            "height": null,
            "justify_content": null,
            "justify_items": null,
            "left": null,
            "margin": null,
            "max_height": null,
            "max_width": null,
            "min_height": null,
            "min_width": null,
            "object_fit": null,
            "object_position": null,
            "order": null,
            "overflow": null,
            "overflow_x": null,
            "overflow_y": null,
            "padding": null,
            "right": null,
            "top": null,
            "visibility": null,
            "width": null
          }
        },
        "52102dede54f445698ca8226998aaf03": {
          "model_module": "@jupyter-widgets/controls",
          "model_name": "DescriptionStyleModel",
          "model_module_version": "1.5.0",
          "state": {
            "_model_module": "@jupyter-widgets/controls",
            "_model_module_version": "1.5.0",
            "_model_name": "DescriptionStyleModel",
            "_view_count": null,
            "_view_module": "@jupyter-widgets/base",
            "_view_module_version": "1.2.0",
            "_view_name": "StyleView",
            "description_width": ""
          }
        }
      }
    }
  },
  "cells": [
    {
      "cell_type": "markdown",
      "metadata": {
        "id": "view-in-github",
        "colab_type": "text"
      },
      "source": [
        "<a href=\"https://colab.research.google.com/github/dojian/classML/blob/main/Copy_of_LLM.ipynb\" target=\"_parent\"><img src=\"https://colab.research.google.com/assets/colab-badge.svg\" alt=\"Open In Colab\"/></a>"
      ]
    },
    {
      "cell_type": "markdown",
      "source": [
        "# Large Language Models (LLM)\n",
        "\n",
        "by (https://www.linkedin.com/in/joaquin-dominguez1992/) Joaquin Dominguez and John Santerre, PhD"
      ],
      "metadata": {
        "id": "oJIjwCECWI0j"
      }
    },
    {
      "cell_type": "markdown",
      "source": [
        "![Screenshot 2023-11-14 at 3.24.27 PM.png](data:image/png;base64,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)"
      ],
      "metadata": {
        "id": "LQGu9fNcM25_"
      }
    },
    {
      "cell_type": "markdown",
      "source": [
        "How to use this notebook: Every section requires different dependencies, model configurations, etc., so it is recommendable to start every section with a new restarted runtime, lest you might get an Out of Memory (OOM) error. All the dependencies for the notebook are found in the first code block. We are using models that require GPU, but will fit in the free-tier T4 GPU runtime."
      ],
      "metadata": {
        "id": "6SncqzWpCqLl"
      }
    },
    {
      "cell_type": "markdown",
      "source": [
        "Install dependencies."
      ],
      "metadata": {
        "id": "rbLtW80XDXz4"
      }
    },
    {
      "cell_type": "code",
      "source": [
        "!pip install -q llama-index transformers accelerate bitsandbytes llama-hub newspaper3k"
      ],
      "metadata": {
        "id": "EnssqHriXCpx"
      },
      "execution_count": null,
      "outputs": []
    },
    {
      "cell_type": "markdown",
      "source": [
        "Large Language Models can be very powerful tools, but it is important to know how to leverage their strengths for valuable outputs. In this notebook, we'll review 4 different applications where LLMs can be and are frequently used in a production capacity. First, we'll review a couple of methods used in Retrieval Augmented Generation to use internal documents as context for Question Answering. Second, we'll explore summarization methods within the context limit of modern LLMs. Third, we'll generate tags that can be used for classification systems in internal databases. And lastly, we'll review an example of sentiment analysis to classify whether a given tweet is positive, neutral, or negative."
      ],
      "metadata": {
        "id": "X75tYG27Dy81"
      }
    },
    {
      "cell_type": "markdown",
      "source": [
        "### Retrieval Augmented Generation (RAG)"
      ],
      "metadata": {
        "id": "jx1McBaFWN5Z"
      }
    },
    {
      "cell_type": "markdown",
      "source": [
        "With the advent of open-source foundation models (Llama, Bloom, Falcon, Mistral), companies and organizations with proprietary/confidential information had the opportunity to create an interactive agent to their data without being concerned about third parties accessing said data. While the remaining applications found in this notebook existed and were being used with the BERT-era models (albeit, to a less effective degree than today), RAG has been a relatively novel application that has been proven valuable by virtue of the increased efficacy of the larger models available today. Furthermore, it is an area that is being refined and optimized every day, with some of the methods we'll review here."
      ],
      "metadata": {
        "id": "hUNpzAHpIXQY"
      }
    },
    {
      "cell_type": "markdown",
      "source": [
        "In its simplest form, RAG entails performing a cosine similarity search between the query and the vectorized form of a document text. The top n relevant chunks from the document are used as context and sent to the LLM as a prompt along with the query and task. The model is then able to use the context provided to [ideally] answer the question being asked. Every element of this process can be scaled, adapted, and optimized for the objective."
      ],
      "metadata": {
        "id": "cBNNhj8eNY1q"
      }
    },
    {
      "cell_type": "markdown",
      "source": [
        "#### Form corpus\n",
        "In the first example, we are using 3 articles found on CNN as our corpus. With respect to frameworks, we are using llama-index due to its reliable and feature-rich environment; however, this exact same process can be accomplished with other frameworks, such as Langchain or even without a framework. What is important here is to conceptually understand the points that tie together the pipeline."
      ],
      "metadata": {
        "id": "bH0YxKcUPcsA"
      }
    },
    {
      "cell_type": "code",
      "source": [
        "from llama_hub.web.news import NewsArticleReader\n",
        "\n",
        "reader = NewsArticleReader(use_nlp=False)\n",
        "\n",
        "urls=['https://lite.cnn.com/2023/11/01/tech/apple-ai-upgrades/index.html',\n",
        "      'https://lite.cnn.com/2023/11/01/media/ai-chatbots-scraping-reporting-news-media-alliance/index.html',\n",
        "      'https://lite.cnn.com/travel/day-of-the-dead-traditions-explained-cec/index.html'\n",
        "      ]\n",
        "\n",
        "docs = reader.load_data(urls)"
      ],
      "metadata": {
        "id": "grH27M-QDSH3"
      },
      "execution_count": null,
      "outputs": []
    },
    {
      "cell_type": "code",
      "source": [
        "docs[1].text"
      ],
      "metadata": {
        "colab": {
          "base_uri": "https://localhost:8080/",
          "height": 88
        },
        "id": "61MWMI8_FoAw",
        "outputId": "c90168d2-acff-4eb1-e539-1a5c2a4ba3f3"
      },
      "execution_count": null,
      "outputs": [
        {
          "output_type": "execute_result",
          "data": {
            "text/plain": [
              "'Source: CNN\\n\\nA top news media trade group is calling out A.I. technology companies for scraping news material to train their chatbots.\\n\\nThe News Media Alliance, which represents nearly 2,000 outlets in the U.S., published research Tuesday that found developers of generative artificial intelligence systems, such as OpenAI and Google, “have copied and used news, magazine, and digital media content to train” their bots. Importantly, the research indicated that A.I.\\n\\ncompanies have trained their bots to give far more credence to information published by those credible publishers versus material elsewhere across the web.\\n\\n“The research and analysis we’ve conducted shows that AI companies and developers are not only engaging in unauthorized copying of our members’ content to train their products, but they are using it pervasively and to a greater extent than other sources,” said Danielle Coffey, chief executive of the News Media Alliance, in a statement.\\n\\n“This shows they recognize our unique value, and yet most of these developers are not obtaining proper permissions through licensing agreements or compensating publishers for the use of this content,” Coffey added. “This diminishment of high-quality, human created content harms not only publishers but the sustainability of AI models themselves and the availability of reliable, trustworthy information.”\\n\\nIn the published white paper, the trade group also rejected arguments that A.I. bots have simply “learned” facts by reading various sets of data, like a human being would. The group said “it is inaccurate” to form such a conclusion “because models retain the expressions of facts that are contained in works in their copied training materials (and which copyright protects) without ever absorbing any underlying concepts.”\\n\\nPublishers, many of which have been in a Cold War of sorts with A.I. companies, have started in recent months taking defensive measures to protect their content. In August, a Reliable Sources review found that a dozen major media companies have inserted code into their websites to safeguard their content from A.I.\\n\\nbots that scrape the web for information. And many more have added it since.\\n\\nBut those defensive measures only protect news organizations from future scraping. The action would do nothing to address the prior scraping of their reporting, which the News Media Alliance — and others — said have been used to train A.I. bots.\\n\\nTo solve for that problem, the News Media Alliance outlined recommendations for news publishers to protect them from going extinct in this brave new world. The recommendations include policymakers recognizing that the unauthorized use of copyrighted material to train A.I. bots “is infringing” and that publishers should be able to “license the use of their content efficiently and on fair terms.”\\n\\n“Our culture, our economy, and our democracy require a solution that allows the news and media industry to grow and flourish, and both to share in the profit from and participate in the development of the GAI revolution that is being built upon the fruits of its labor,” the News Media Alliance said.\\n\\nSee Full Web Article'"
            ],
            "application/vnd.google.colaboratory.intrinsic+json": {
              "type": "string"
            }
          },
          "metadata": {},
          "execution_count": 3
        }
      ]
    },
    {
      "cell_type": "markdown",
      "source": [
        "We extract the relevant text from the links using the 'UnstructuredURLLoader plugin and load them into a Document class. An example of the second article is found below."
      ],
      "metadata": {
        "id": "nUj8InC3Q10T"
      }
    },
    {
      "cell_type": "code",
      "source": [
        "docs[1]"
      ],
      "metadata": {
        "id": "3CueojjifPiO",
        "colab": {
          "base_uri": "https://localhost:8080/"
        },
        "outputId": "8baccd2a-054f-42ca-c5fe-0460b3778c0c"
      },
      "execution_count": null,
      "outputs": [
        {
          "output_type": "execute_result",
          "data": {
            "text/plain": [
              "Document(id_='ca0ab549-debb-45e7-80e4-9752a4df4370', embedding=None, metadata={'title': 'AI Chatbots are scraping news reporting and copyrighted content, News Media Alliance says', 'link': 'https://lite.cnn.com/2023/11/01/media/ai-chatbots-scraping-reporting-news-media-alliance/index.html', 'authors': ['Oliver Darcy'], 'language': 'en', 'description': '', 'publish_date': datetime.datetime(2023, 11, 1, 0, 0)}, excluded_embed_metadata_keys=[], excluded_llm_metadata_keys=[], relationships={}, hash='bd9e93e494d1175ea74240212d9597a26f1728a76e3c1b93ad39f87e76b26b9e', text='Source: CNN\\n\\nA top news media trade group is calling out A.I. technology companies for scraping news material to train their chatbots.\\n\\nThe News Media Alliance, which represents nearly 2,000 outlets in the U.S., published research Tuesday that found developers of generative artificial intelligence systems, such as OpenAI and Google, “have copied and used news, magazine, and digital media content to train” their bots. Importantly, the research indicated that A.I.\\n\\ncompanies have trained their bots to give far more credence to information published by those credible publishers versus material elsewhere across the web.\\n\\n“The research and analysis we’ve conducted shows that AI companies and developers are not only engaging in unauthorized copying of our members’ content to train their products, but they are using it pervasively and to a greater extent than other sources,” said Danielle Coffey, chief executive of the News Media Alliance, in a statement.\\n\\n“This shows they recognize our unique value, and yet most of these developers are not obtaining proper permissions through licensing agreements or compensating publishers for the use of this content,” Coffey added. “This diminishment of high-quality, human created content harms not only publishers but the sustainability of AI models themselves and the availability of reliable, trustworthy information.”\\n\\nIn the published white paper, the trade group also rejected arguments that A.I. bots have simply “learned” facts by reading various sets of data, like a human being would. The group said “it is inaccurate” to form such a conclusion “because models retain the expressions of facts that are contained in works in their copied training materials (and which copyright protects) without ever absorbing any underlying concepts.”\\n\\nPublishers, many of which have been in a Cold War of sorts with A.I. companies, have started in recent months taking defensive measures to protect their content. In August, a Reliable Sources review found that a dozen major media companies have inserted code into their websites to safeguard their content from A.I.\\n\\nbots that scrape the web for information. And many more have added it since.\\n\\nBut those defensive measures only protect news organizations from future scraping. The action would do nothing to address the prior scraping of their reporting, which the News Media Alliance — and others — said have been used to train A.I. bots.\\n\\nTo solve for that problem, the News Media Alliance outlined recommendations for news publishers to protect them from going extinct in this brave new world. The recommendations include policymakers recognizing that the unauthorized use of copyrighted material to train A.I. bots “is infringing” and that publishers should be able to “license the use of their content efficiently and on fair terms.”\\n\\n“Our culture, our economy, and our democracy require a solution that allows the news and media industry to grow and flourish, and both to share in the profit from and participate in the development of the GAI revolution that is being built upon the fruits of its labor,” the News Media Alliance said.\\n\\nSee Full Web Article', start_char_idx=None, end_char_idx=None, text_template='{metadata_str}\\n\\n{content}', metadata_template='{key}: {value}', metadata_seperator='\\n')"
            ]
          },
          "metadata": {},
          "execution_count": 4
        }
      ]
    },
    {
      "cell_type": "markdown",
      "source": [
        "#### Chunk\n",
        "Although these articles are relatively short, we sometimes work with documents that are quite lengthy, so it is important to split the documents into chunks, so that what is sent to the model will hold only enough information to have the answer and provide sufficient context. In this case, we will split at the token level at 500 tokens per chunk with a 20 token overlap between chunks. This is a pretty standard place to begin, but this can and should be adjusted based on your documents and objective."
      ],
      "metadata": {
        "id": "xaoCj1-bSOqF"
      }
    },
    {
      "cell_type": "code",
      "source": [
        "from llama_index.node_parser import SimpleNodeParser\n",
        "\n",
        "# Assuming documents have already been loaded\n",
        "\n",
        "# Initialize the parser\n",
        "parser = SimpleNodeParser.from_defaults(chunk_size=500, chunk_overlap=20)\n",
        "\n",
        "# Parse documents into nodes\n",
        "nodes = parser.get_nodes_from_documents(docs)"
      ],
      "metadata": {
        "id": "rhaEQkTMZe1-"
      },
      "execution_count": null,
      "outputs": []
    },
    {
      "cell_type": "markdown",
      "source": [
        "Below is an example of a chunk from one of the documents."
      ],
      "metadata": {
        "id": "Sc84Rr1WToED"
      }
    },
    {
      "cell_type": "code",
      "source": [
        "nodes[3]"
      ],
      "metadata": {
        "id": "zEB85GH_cKEj",
        "colab": {
          "base_uri": "https://localhost:8080/"
        },
        "outputId": "eee9c6a9-1b82-425c-9701-668020e42d87"
      },
      "execution_count": null,
      "outputs": [
        {
          "output_type": "execute_result",
          "data": {
            "text/plain": [
              "TextNode(id_='561089ba-5b96-4933-bed8-3127b9547dba', embedding=None, metadata={'title': 'AI Chatbots are scraping news reporting and copyrighted content, News Media Alliance says', 'link': 'https://lite.cnn.com/2023/11/01/media/ai-chatbots-scraping-reporting-news-media-alliance/index.html', 'authors': ['Oliver Darcy'], 'language': 'en', 'description': '', 'publish_date': datetime.datetime(2023, 11, 1, 0, 0)}, excluded_embed_metadata_keys=[], excluded_llm_metadata_keys=[], relationships={<NodeRelationship.SOURCE: '1'>: RelatedNodeInfo(node_id='ca0ab549-debb-45e7-80e4-9752a4df4370', node_type=<ObjectType.DOCUMENT: '4'>, metadata={'title': 'AI Chatbots are scraping news reporting and copyrighted content, News Media Alliance says', 'link': 'https://lite.cnn.com/2023/11/01/media/ai-chatbots-scraping-reporting-news-media-alliance/index.html', 'authors': ['Oliver Darcy'], 'language': 'en', 'description': '', 'publish_date': datetime.datetime(2023, 11, 1, 0, 0)}, hash='bd9e93e494d1175ea74240212d9597a26f1728a76e3c1b93ad39f87e76b26b9e'), <NodeRelationship.NEXT: '3'>: RelatedNodeInfo(node_id='e6a2e3ef-b141-4843-a1ed-eb6d042939ba', node_type=<ObjectType.TEXT: '1'>, metadata={'title': 'AI Chatbots are scraping news reporting and copyrighted content, News Media Alliance says', 'link': 'https://lite.cnn.com/2023/11/01/media/ai-chatbots-scraping-reporting-news-media-alliance/index.html', 'authors': ['Oliver Darcy'], 'language': 'en', 'description': '', 'publish_date': datetime.datetime(2023, 11, 1, 0, 0)}, hash='b2aecd0fb6a56bcd78e19b95da605438d298dee0e5da047bb875ac684d885517')}, hash='b061f19c556916e709ad268582dc8ec1fdd911a1878f556595b784209341ce26', text='Source: CNN\\n\\nA top news media trade group is calling out A.I. technology companies for scraping news material to train their chatbots.\\n\\nThe News Media Alliance, which represents nearly 2,000 outlets in the U.S., published research Tuesday that found developers of generative artificial intelligence systems, such as OpenAI and Google, “have copied and used news, magazine, and digital media content to train” their bots. Importantly, the research indicated that A.I.\\n\\ncompanies have trained their bots to give far more credence to information published by those credible publishers versus material elsewhere across the web.\\n\\n“The research and analysis we’ve conducted shows that AI companies and developers are not only engaging in unauthorized copying of our members’ content to train their products, but they are using it pervasively and to a greater extent than other sources,” said Danielle Coffey, chief executive of the News Media Alliance, in a statement.\\n\\n“This shows they recognize our unique value, and yet most of these developers are not obtaining proper permissions through licensing agreements or compensating publishers for the use of this content,” Coffey added. “This diminishment of high-quality, human created content harms not only publishers but the sustainability of AI models themselves and the availability of reliable, trustworthy information.”\\n\\nIn the published white paper, the trade group also rejected arguments that A.I. bots have simply “learned” facts by reading various sets of data, like a human being would. The group said “it is inaccurate” to form such a conclusion “because models retain the expressions of facts that are contained in works in their copied training materials (and which copyright protects) without ever absorbing any underlying concepts.”\\n\\nPublishers, many of which have been in a Cold War of sorts with A.I.', start_char_idx=None, end_char_idx=None, text_template='{metadata_str}\\n\\n{content}', metadata_template='{key}: {value}', metadata_seperator='\\n')"
            ]
          },
          "metadata": {},
          "execution_count": 6
        }
      ]
    },
    {
      "cell_type": "markdown",
      "source": [
        "#### Load Model\n",
        "In this code block, we define the model we would like to use along with its configuration and prompt template. The T4 GPU only has 16GB vRAM, so in order to use a 7B parameter model (which is on the lower end size-wise), we need to quantize the weights, so that it fits.\n",
        "\n",
        "For the prompt, we define the system instructions, as well as the format that this specific model is expecting. This will vary between models, so if you'd like to test out different models (I highly suggest you do so), make sure to review the documentation. For this example, we will be using  [Zephyr-7b-beta](https://huggingface.co/HuggingFaceH4/zephyr-7b-beta), as it was recently released and has been performing exceptionally for its size!"
      ],
      "metadata": {
        "id": "iMRzuEBvT322"
      }
    },
    {
      "cell_type": "code",
      "source": [
        "import torch\n",
        "from transformers import BitsAndBytesConfig\n",
        "from llama_index.prompts import PromptTemplate\n",
        "from llama_index.llms import HuggingFaceLLM\n",
        "\n",
        "quantization_config = BitsAndBytesConfig(\n",
        "    load_in_4bit=True,\n",
        "    bnb_4bit_compute_dtype=torch.float16,\n",
        "    bnb_4bit_quant_type=\"nf4\",\n",
        "    bnb_4bit_use_double_quant=True,\n",
        ")\n",
        "\n",
        "\n",
        "def messages_to_prompt(messages):\n",
        "  prompt = \"\"\"You are an AI assistant that answers questions in a friendly manner, based on the given source documents. Here are some rules you always follow:\n",
        "- Generate human readable output, avoid creating output with gibberish text.\n",
        "- Generate only the requested output, don't include any other language before or after the requested output.\n",
        "- Never say thank you, that you are happy to help, that you are an AI agent, etc. Just answer directly.\n",
        "- Generate professional language typically used in business documents in North America.\n",
        "- Never generate offensive or foul language.\n",
        "\"\"\"\n",
        "  for message in messages:\n",
        "    if message.role == 'system':\n",
        "      prompt += f\"<|system|>\\n{message.content}</s>\\n\"\n",
        "    elif message.role == 'user':\n",
        "      prompt += f\"<|user|>\\n{message.content}</s>\\n\"\n",
        "    elif message.role == 'assistant':\n",
        "      prompt += f\"<|assistant|>\\n{message.content}</s>\\n\"\n",
        "\n",
        "  # ensure we start with a system prompt, insert blank if needed\n",
        "  if not prompt.startswith(\"<|system|>\\n\"):\n",
        "    prompt = \"<|system|>\\n</s>\\n\" + prompt\n",
        "\n",
        "  # add final assistant prompt\n",
        "  prompt = prompt + \"<|assistant|>\\n\"\n",
        "\n",
        "  return prompt\n",
        "\n",
        "\n",
        "llm = HuggingFaceLLM(\n",
        "    model_name=\"HuggingFaceH4/zephyr-7b-beta\",\n",
        "    tokenizer_name=\"HuggingFaceH4/zephyr-7b-beta\",\n",
        "    query_wrapper_prompt=PromptTemplate(\"<|system|>\\n</s>\\n<|user|>\\n{query_str}</s>\\n<|assistant|>\\n\"),\n",
        "    context_window=3900,\n",
        "    max_new_tokens=256,\n",
        "    model_kwargs={\"quantization_config\": quantization_config},\n",
        "    # tokenizer_kwargs={},\n",
        "    generate_kwargs={\"temperature\": 0.7, \"top_k\": 50, \"top_p\": 0.95},\n",
        "    messages_to_prompt=messages_to_prompt,\n",
        "    device_map=\"auto\",\n",
        ")\n"
      ],
      "metadata": {
        "id": "DiV4EFl2oRoX",
        "colab": {
          "base_uri": "https://localhost:8080/",
          "height": 49,
          "referenced_widgets": [
            "350be8478d054584bd6e54fd1753b530",
            "dbbb7f043efe4642958efa82982f1ccc",
            "ddadc60536c3460abcda80355c5cfec2",
            "48cbe111fb2f44e0ad418d9ae4ff664c",
            "95288eb378b54d4482e7da85d9400d29",
            "997e5413b3764df3883ff3bcb15b6639",
            "60b9a99dbf2b4781ab5ed78fb7656218",
            "70043739b205446a9f1a93432fedd0b5",
            "e1729bd4c9f64b338c7237ccf2d985d7",
            "d6bb4414217d4fb19ac389a0ba75960e",
            "9b91c70321ab43288ce3680e93d6d76b"
          ]
        },
        "outputId": "79a688b2-9b56-48bf-d6ad-c4c156003083"
      },
      "execution_count": null,
      "outputs": [
        {
          "output_type": "display_data",
          "data": {
            "text/plain": [
              "Loading checkpoint shards:   0%|          | 0/8 [00:00<?, ?it/s]"
            ],
            "application/vnd.jupyter.widget-view+json": {
              "version_major": 2,
              "version_minor": 0,
              "model_id": "350be8478d054584bd6e54fd1753b530"
            }
          },
          "metadata": {}
        }
      ]
    },
    {
      "cell_type": "markdown",
      "source": [
        "#### Create Embeddings\n",
        "For the 'Retrieval' part, we need to vectorize the text from the chunks and store them in a vector space. There are a number of embedding models that can be used for this task and their performance may vary based on the kind of task and data being used. In this case, we will use ['msmarco-distilbert-dot-v5'](https://huggingface.co/sentence-transformers/msmarco-distilbert-dot-v5) from Microsoft due to its proven track record in this task. Similarly, this is an area where you can explore different options. It is important to note, however, that there is two kinds of retrieval search functions that are generally used: cosine similarity and dot product search. This model, in particular, is optimized for dot product search (though it will perform fine if used with cosine similarity).\n",
        "\n",
        "Since we are working with a small corpus (3 news articles), it is fine to store the vector database in memory, but for more reliable and scalable solutions, it is recommended to use vector databases, such as [Milvus](https://milvus.io/) or [Pinecone](https://www.pinecone.io/)."
      ],
      "metadata": {
        "id": "q_-zKgTJWJMJ"
      }
    },
    {
      "cell_type": "code",
      "source": [
        "from llama_index import ServiceContext\n",
        "\n",
        "# this function allows us to specify our preference of embedding and llm. If not specified, it will default to OpenAI model, which requires API key.\n",
        "service_context = ServiceContext.from_defaults(llm=llm, embed_model=\"local:sentence-transformers/msmarco-distilbert-dot-v5\")"
      ],
      "metadata": {
        "id": "kT-rC7q3pyno"
      },
      "execution_count": null,
      "outputs": []
    },
    {
      "cell_type": "code",
      "source": [
        "from llama_index.response.notebook_utils import display_response\n",
        "\n",
        "import logging\n",
        "import sys\n",
        "\n",
        "logging.basicConfig(stream=sys.stdout, level=logging.INFO)\n",
        "logging.getLogger().addHandler(logging.StreamHandler(stream=sys.stdout))"
      ],
      "metadata": {
        "id": "Nkr1xhnqu85c"
      },
      "execution_count": null,
      "outputs": []
    },
    {
      "cell_type": "code",
      "source": [
        "from llama_index.schema import TextNode\n",
        "nodes_txt = [TextNode(text=x.text) for x in nodes]"
      ],
      "metadata": {
        "id": "va_3QUr1Iq4b"
      },
      "execution_count": null,
      "outputs": []
    },
    {
      "cell_type": "code",
      "source": [
        "parser = SimpleNodeParser.from_defaults(chunk_size=500, chunk_overlap=20)\n",
        "\n",
        "# Parse documents into nodes\n",
        "nodes = parser.get_nodes_from_documents(nodes_txt)"
      ],
      "metadata": {
        "id": "mqqCZ3NGLG-1"
      },
      "execution_count": null,
      "outputs": []
    },
    {
      "cell_type": "code",
      "source": [
        "from llama_index import VectorStoreIndex\n",
        "\n",
        "# This function creates the vector database from the embedded chunks\n",
        "vector_index = VectorStoreIndex(nodes, service_context=service_context)"
      ],
      "metadata": {
        "id": "CuN18IPQp809"
      },
      "execution_count": null,
      "outputs": []
    },
    {
      "cell_type": "markdown",
      "source": [
        "Using frameworks, as we're doing here can be valuable since it abstracts many of the finer details of the RAG pipeline for simplicity, but we may also be missing out on a lot of great intervention points for optimization. The defaults work fine, as you will see, but what if we want to specify that we would like 3 chunks retrieved instead of 2? What if we want to specify a different search function? Granted, all those things can be configured via these frameworks, but it is easy to forget about the finer details because these few lines of code gave us an already powerful application of our data!"
      ],
      "metadata": {
        "id": "eibgoXX8dQ9i"
      }
    },
    {
      "cell_type": "code",
      "source": [
        "# This function initializes the pipeline from query to output\n",
        "query_engine = vector_index.as_query_engine(response_mode=\"refine\")\n",
        "\n",
        "# Feel free to change this query as you please to ask questions about the articles we ingested.\n",
        "response = query_engine.query(\"What is Apple's announcement?\")\n",
        "\n",
        "display_response(response)\n",
        "# response.print_response_stream()"
      ],
      "metadata": {
        "id": "SbSWhsX0upvL",
        "colab": {
          "base_uri": "https://localhost:8080/",
          "height": 257
        },
        "outputId": "fb1a5e1e-1b20-4ad3-a031-1b5b92280e33"
      },
      "execution_count": null,
      "outputs": [
        {
          "output_type": "stream",
          "name": "stderr",
          "text": [
            "/usr/local/lib/python3.10/dist-packages/transformers/generation/utils.py:1473: UserWarning: You have modified the pretrained model configuration to control generation. This is a deprecated strategy to control generation and will be removed soon, in a future version. Please use and modify the model generation configuration (see https://huggingface.co/docs/transformers/generation_strategies#default-text-generation-configuration )\n",
            "  warnings.warn(\n",
            "/usr/local/lib/python3.10/dist-packages/transformers/generation/configuration_utils.py:381: UserWarning: `do_sample` is set to `False`. However, `temperature` is set to `0.7` -- this flag is only used in sample-based generation modes. You should set `do_sample=True` or unset `temperature`.\n",
            "  warnings.warn(\n",
            "/usr/local/lib/python3.10/dist-packages/transformers/generation/configuration_utils.py:386: UserWarning: `do_sample` is set to `False`. However, `top_p` is set to `0.95` -- this flag is only used in sample-based generation modes. You should set `do_sample=True` or unset `top_p`.\n",
            "  warnings.warn(\n"
          ]
        },
        {
          "output_type": "display_data",
          "data": {
            "text/plain": [
              "<IPython.core.display.Markdown object>"
            ],
            "text/markdown": "**`Final Response:`** The article discusses Apple's announcement of the M3 chip for its MacBook Pro and iMac lines, which is expected to solidify the company's commitment to integrating artificial intelligence (AI) into its products. This announcement comes at a time when Apple is gaining ground in the traditional PC and laptop market but still ranks fourth in terms of product shipments. The M3 chip is said to make complex tasks such as DNA/RNA sequencing and galaxy mapping more accessible, potentially aiding in early cancer detection and pandemic prevention. While the overall PC market has declined, Apple shipped approximately 26 million Macs in 2022, making up 9.1% of the market. The company is looking to the new iPhone 15 to provide a revenue boost, but demand is reportedly tepid, particularly in China."
          },
          "metadata": {}
        }
      ]
    },
    {
      "cell_type": "markdown",
      "source": [
        "In this example of RAG, we have used the Llama-index framework to:\n",
        "- ingest a set of documents (news articles)\n",
        "- process documents by chunking\n",
        "- create embeddings of chunks with specified model\n",
        "- create vector database from chunk embeddings\n",
        "- retrieve top n relevant chunks based on query using dot product search\n",
        "- use specified LLM to generate response to query, given the context of retrieved chunks"
      ],
      "metadata": {
        "id": "1eo-zEdeZ9cy"
      }
    },
    {
      "cell_type": "markdown",
      "source": [
        "#### More RAG (Optional)"
      ],
      "metadata": {
        "id": "w8Y9oq2GyHK1"
      }
    },
    {
      "cell_type": "markdown",
      "source": [
        "In this section, we are going to explore one optimization method in a RAG pipeline that is called Reranking. The premise of this method is that whereas in the simple example we did above, the search function is the arbiter of relevance for chunks, reranking introduces a second layer of chunk ranking; namely, by having the llm decide the ranking itself. For example, instead of having the dot product/cosine similarity search function return the top 2-3 chunks, here we will have it return the top 10 chunks and have the llm rank those chunks by importance and then choose the top 2 for context. For queries that require a finer degree of specificity and documents that are more elaborate, this approach may be worthwile to implement."
      ],
      "metadata": {
        "id": "vG8iRPk1elF8"
      }
    },
    {
      "cell_type": "code",
      "source": [
        "import nest_asyncio\n",
        "\n",
        "nest_asyncio.apply()"
      ],
      "metadata": {
        "id": "ZmM81Db046Mn"
      },
      "execution_count": null,
      "outputs": []
    },
    {
      "cell_type": "code",
      "source": [
        "import logging\n",
        "import sys\n",
        "\n",
        "logging.basicConfig(stream=sys.stdout, level=logging.INFO)\n",
        "logging.getLogger().addHandler(logging.StreamHandler(stream=sys.stdout))\n",
        "from llama_index import (\n",
        "    VectorStoreIndex,\n",
        "    download_loader,\n",
        "    ServiceContext,\n",
        ")\n",
        "from llama_index.indices.postprocessor import LLMRerank\n",
        "from llama_index.llms import OpenAI\n",
        "from IPython.display import Markdown, display\n"
      ],
      "metadata": {
        "id": "QQiHikny0Fkb"
      },
      "execution_count": null,
      "outputs": []
    },
    {
      "cell_type": "markdown",
      "source": [
        "For this example, we will use the text of the novel, The Great Gatsby by F. Scott Fitzgerald, ingesting the text as we did above."
      ],
      "metadata": {
        "id": "OUpFH7Wlh2k5"
      }
    },
    {
      "cell_type": "code",
      "source": [
        "from llama_index import download_loader\n",
        "\n",
        "BeautifulSoupWebReader = download_loader(\"BeautifulSoupWebReader\")\n",
        "\n",
        "loader = BeautifulSoupWebReader()\n",
        "docs = loader.load_data(urls=['https://www.gutenberg.org/files/64317/64317-h/64317-h.htm'])"
      ],
      "metadata": {
        "id": "Cs2KafBnL0IY"
      },
      "execution_count": null,
      "outputs": []
    },
    {
      "cell_type": "markdown",
      "source": [
        "Unfortunately, for formatting reasons, this method in Llama-index only currently works with OpenAI models, so for this example, you would have to specify your OpenAI API key, which is easily obtained. Hopefully, this gets fixed by the Llama-index team soon."
      ],
      "metadata": {
        "id": "7wyKOo7WiDzi"
      }
    },
    {
      "cell_type": "code",
      "source": [
        "import os\n",
        "os.environ['OPENAI_API_KEY'] =  \"put API key here\"\n"
      ],
      "metadata": {
        "id": "o0FlrdzRTCXn"
      },
      "execution_count": null,
      "outputs": []
    },
    {
      "cell_type": "code",
      "source": [
        "llm = OpenAI(temperature=0, model=\"gpt-3.5-turbo\")"
      ],
      "metadata": {
        "id": "md5IdCKBS53a"
      },
      "execution_count": null,
      "outputs": []
    },
    {
      "cell_type": "markdown",
      "source": [
        "As we did in the prior example, we specify our preferred embedding model and created a vector store of the embedded chunks."
      ],
      "metadata": {
        "id": "3eOwcNrCjnGT"
      }
    },
    {
      "cell_type": "code",
      "source": [
        "service_context = ServiceContext.from_defaults(llm=llm, chunk_size=500, embed_model=\"local:sentence-transformers/msmarco-distilbert-dot-v5\")\n",
        "index = VectorStoreIndex.from_documents(docs, service_context=service_context)"
      ],
      "metadata": {
        "id": "mURbNXyUyOMp"
      },
      "execution_count": null,
      "outputs": []
    },
    {
      "cell_type": "markdown",
      "source": [
        "The functions below is where the real \"magic\" happens."
      ],
      "metadata": {
        "id": "ukz23MTglCBb"
      }
    },
    {
      "cell_type": "code",
      "source": [
        "from llama_index.indices.postprocessor import LLMRerank\n",
        "from llama_index.retrievers import VectorIndexRetriever\n",
        "from llama_index.indices.query.schema import QueryBundle\n",
        "import pandas as pd\n",
        "from IPython.display import display, HTML\n",
        "\n",
        "\n",
        "pd.set_option(\"display.max_colwidth\", -1)\n",
        "\n",
        "\n",
        "# in this function, we specify how many chunks we want retrieved from the vector space search function\n",
        "# and how many we want the llm to return from those chunks.\n",
        "\n",
        "def get_retrieved_nodes(\n",
        "    query_str, vector_top_k=10, reranker_top_n=3, with_reranker=False\n",
        "):\n",
        "    query_bundle = QueryBundle(query_str)\n",
        "    # configure retriever\n",
        "    retriever = VectorIndexRetriever(\n",
        "        index=index,\n",
        "        similarity_top_k=vector_top_k,\n",
        "    )\n",
        "    retrieved_nodes = retriever.retrieve(query_bundle)\n",
        "\n",
        "    if with_reranker:\n",
        "        # configure reranker\n",
        "        reranker = LLMRerank(\n",
        "            choice_batch_size=5,\n",
        "            top_n=reranker_top_n,\n",
        "            service_context=service_context,\n",
        "        )\n",
        "        retrieved_nodes = reranker.postprocess_nodes(\n",
        "            retrieved_nodes, query_bundle\n",
        "        )\n",
        "\n",
        "    return retrieved_nodes\n",
        "\n",
        "\n",
        "def pretty_print(df):\n",
        "    return display(HTML(df.to_html().replace(\"\\\\n\", \"<br>\")))\n",
        "\n",
        "\n",
        "def visualize_retrieved_nodes(nodes) -> None:\n",
        "    result_dicts = []\n",
        "    for node in nodes:\n",
        "        result_dict = {\"Score\": node.score, \"Text\": node.node.get_text()}\n",
        "        result_dicts.append(result_dict)\n",
        "\n",
        "    pretty_print(pd.DataFrame(result_dicts))"
      ],
      "metadata": {
        "id": "TR_FDMro0WDr",
        "colab": {
          "base_uri": "https://localhost:8080/"
        },
        "outputId": "45274011-1afb-482b-f8e0-5c254c73fcf8"
      },
      "execution_count": null,
      "outputs": [
        {
          "output_type": "stream",
          "name": "stderr",
          "text": [
            "<ipython-input-20-10b08fa27579>:8: FutureWarning: Passing a negative integer is deprecated in version 1.0 and will not be supported in future version. Instead, use None to not limit the column width.\n",
            "  pd.set_option(\"display.max_colwidth\", -1)\n"
          ]
        }
      ]
    },
    {
      "cell_type": "markdown",
      "source": [
        "To provide a usecase where this method could be used, lets try to find out who was to blame for the infamous accident that killed Myrtle in the story."
      ],
      "metadata": {
        "id": "V_0GJteam2MQ"
      }
    },
    {
      "cell_type": "code",
      "source": [
        "new_nodes = get_retrieved_nodes(\n",
        "    \"Who was driving the car that hit Myrtle?\",\n",
        "    vector_top_k=3,\n",
        "    with_reranker=False,\n",
        ")"
      ],
      "metadata": {
        "id": "8ywD33tq0gQT"
      },
      "execution_count": null,
      "outputs": []
    },
    {
      "cell_type": "markdown",
      "source": [
        "We request the top 3 chunks from the vector space, as usual. As we can see, the answer that we're looking for does get returned, but it is in the second chunk--specifically, in the section that states \"...Was Daisy driving? Yes, he said after a moment, but of course I'll say I was.\" The 1st and 3rd chunks mention a car and gasoline pump, which is why they were returned, but they don't have the answer that we want. Let's see if the reranking method fares better."
      ],
      "metadata": {
        "id": "zDKIKealnIwc"
      }
    },
    {
      "cell_type": "code",
      "source": [
        "visualize_retrieved_nodes(new_nodes)"
      ],
      "metadata": {
        "id": "8QmwaVPe0-b2",
        "colab": {
          "base_uri": "https://localhost:8080/",
          "height": 1000
        },
        "outputId": "b4e22f14-6f12-4b53-c2bf-2b3fa0fe8995"
      },
      "execution_count": null,
      "outputs": [
        {
          "output_type": "display_data",
          "data": {
            "text/plain": [
              "<IPython.core.display.HTML object>"
            ],
            "text/html": [
              "<table border=\"1\" class=\"dataframe\">\n",
              "  <thead>\n",
              "    <tr style=\"text-align: right;\">\n",
              "      <th></th>\n",
              "      <th>Score</th>\n",
              "      <th>Text</th>\n",
              "    </tr>\n",
              "  </thead>\n",
              "  <tbody>\n",
              "    <tr>\n",
              "      <th>0</th>\n",
              "      <td>0.717738</td>\n",
              "      <td>“Was Daisy driving?”\\r<br><br>\\r<br>“Yes,” he said after a moment, “but of course I’ll say I was. You see, when we left New York she was very nervous and she thought it would steady her to drive—and this woman rushed out at us just as we were passing a car coming the other way. It all happened in a minute, but it seemed to me that she wanted to speak to us, thought we were somebody she knew. Well, first Daisy turned away from the woman toward the other car, and then she lost her nerve and turned back. The second my hand reached the wheel I felt the shock—it must have killed her instantly.”\\r<br><br>\\r<br>“It ripped her open—”\\r<br><br>\\r<br>“Don’t tell me, old sport.” He winced. “Anyhow—Daisy stepped on it. I tried to make her stop, but she couldn’t, so I pulled on the emergency brake. Then she fell over into my lap and I drove on.\\r<br><br>\\r<br>“She’ll be all right tomorrow,” he said presently. “I’m just going to wait here and see if he tries to bother her about that unpleasantness this afternoon. She’s locked herself into her room, and if he tries any brutality she’s going to turn the light out and on again.”\\r<br><br>\\r<br>“He won’t touch her,” I said. “He’s not thinking about her.”\\r<br><br>\\r<br>“I don’t trust him, old sport.”\\r<br><br>\\r<br>“How long are you going to wait?”\\r<br><br>\\r<br>“All night, if necessary. Anyhow, till they all go to bed.”\\r<br><br>\\r<br>A new point of view occurred to me. Suppose Tom found out that Daisy had been driving. He might think he saw a connection in it—he might think anything.</td>\n",
              "    </tr>\n",
              "    <tr>\n",
              "      <th>1</th>\n",
              "      <td>0.683213</td>\n",
              "      <td>“Hasn’t got any name.”\\r<br><br>\\r<br>A pale well-dressed negro stepped near.\\r<br><br>\\r<br>“It was a yellow car,” he said, “big yellow car. New.”\\r<br><br>\\r<br>“See the accident?” asked the policeman.\\r<br><br>\\r<br>“No, but the car passed me down the road, going faster’n forty. Going fifty, sixty.”\\r<br><br>\\r<br>“Come here and let’s have your name. Look out now. I want to get his name.”\\r<br><br>\\r<br>Some words of this conversation must have reached Wilson, swaying in the office door, for suddenly a new theme found voice among his grasping cries:\\r<br><br>\\r<br>“You don’t have to tell me what kind of car it was! I know what kind of car it was!”\\r<br><br>\\r<br>Watching Tom, I saw the wad of muscle back of his shoulder tighten under his coat. He walked quickly over to Wilson and, standing in front of him, seized him firmly by the upper arms.\\r<br><br>\\r<br>“You’ve got to pull yourself together,” he said with soothing gruffness.\\r<br><br>\\r<br>Wilson’s eyes fell upon Tom; he started up on his tiptoes and then would have collapsed to his knees had not Tom held him upright.\\r<br><br>\\r<br>“Listen,” said Tom, shaking him a little. “I just got here a minute ago, from New York. I was bringing you that coupé we’ve been talking about. That yellow car I was driving this afternoon wasn’t mine—do you hear? I haven’t seen it all afternoon.”\\r<br><br>\\r<br>Only the negro and I were near enough to hear what he said, but the policeman caught something in the tone and looked over with truculent eyes.\\r<br><br>\\r<br>“What’s all that?” he demanded.</td>\n",
              "    </tr>\n",
              "    <tr>\n",
              "      <th>2</th>\n",
              "      <td>0.679251</td>\n",
              "      <td>He had discovered that Myrtle had some sort of life apart from him in another world, and the shock had made him physically sick. I stared at him and then at Tom, who had made a parallel discovery less than an hour before—and it occurred to me that there was no difference between men, in intelligence or race, so profound as the difference between the sick and the well. Wilson was so sick that he looked guilty, unforgivably guilty—as if he had just got some poor girl with child.\\r<br><br>\\r<br>“I’ll let you have that car,” said Tom. “I’ll send it over tomorrow afternoon.”\\r<br><br>\\r<br>That locality was always vaguely disquieting, even in the broad glare of afternoon, and now I turned my head as though I had been warned of something behind. Over the ash-heaps the giant eyes of Doctor T. J. Eckleburg kept their vigil, but I perceived, after a moment, that other eyes were regarding us with peculiar intensity from less than twenty feet away.\\r<br><br>\\r<br>In one of the windows over the garage the curtains had been moved aside a little, and Myrtle Wilson was peering down at the car. So engrossed was she that she had no consciousness of being observed, and one emotion after another crept into her face like objects into a slowly developing picture. Her expression was curiously familiar—it was an expression I had often seen on women’s faces, but on Myrtle Wilson’s face it seemed purposeless and inexplicable until I realized that her eyes, wide with jealous terror, were fixed not on Tom, but on Jordan Baker, whom she took to be his wife.\\r<br><br><br>\\r<br>There is no confusion like the confusion of a simple mind, and as we drove away Tom was feeling the hot whips of panic. His wife and his mistress, until an hour ago secure and inviolate, were slipping precipitately from his control.</td>\n",
              "    </tr>\n",
              "  </tbody>\n",
              "</table>"
            ]
          },
          "metadata": {}
        }
      ]
    },
    {
      "cell_type": "code",
      "source": [
        "new_nodes = get_retrieved_nodes(\n",
        "    \"Who was driving the car that hit Myrtle?\",\n",
        "    vector_top_k=10,\n",
        "    reranker_top_n=3,\n",
        "    with_reranker=True,\n",
        ")\n"
      ],
      "metadata": {
        "id": "wQzoQRJ01P-O",
        "colab": {
          "base_uri": "https://localhost:8080/",
          "height": 391
        },
        "outputId": "778dfcbb-e43f-4a3b-c35d-cb0b3df1b3f7"
      },
      "execution_count": null,
      "outputs": [
        {
          "output_type": "error",
          "ename": "AuthenticationError",
          "evalue": "ignored",
          "traceback": [
            "\u001b[0;31m---------------------------------------------------------------------------\u001b[0m",
            "\u001b[0;31mAuthenticationError\u001b[0m                       Traceback (most recent call last)",
            "\u001b[0;32m<ipython-input-23-2cc00d5798a0>\u001b[0m in \u001b[0;36m<cell line: 1>\u001b[0;34m()\u001b[0m\n\u001b[0;32m----> 1\u001b[0;31m new_nodes = get_retrieved_nodes(\n\u001b[0m\u001b[1;32m      2\u001b[0m     \u001b[0;34m\"Who was driving the car that hit Myrtle?\"\u001b[0m\u001b[0;34m,\u001b[0m\u001b[0;34m\u001b[0m\u001b[0;34m\u001b[0m\u001b[0m\n\u001b[1;32m      3\u001b[0m     \u001b[0mvector_top_k\u001b[0m\u001b[0;34m=\u001b[0m\u001b[0;36m10\u001b[0m\u001b[0;34m,\u001b[0m\u001b[0;34m\u001b[0m\u001b[0;34m\u001b[0m\u001b[0m\n\u001b[1;32m      4\u001b[0m     \u001b[0mreranker_top_n\u001b[0m\u001b[0;34m=\u001b[0m\u001b[0;36m3\u001b[0m\u001b[0;34m,\u001b[0m\u001b[0;34m\u001b[0m\u001b[0;34m\u001b[0m\u001b[0m\n\u001b[1;32m      5\u001b[0m     \u001b[0mwith_reranker\u001b[0m\u001b[0;34m=\u001b[0m\u001b[0;32mTrue\u001b[0m\u001b[0;34m,\u001b[0m\u001b[0;34m\u001b[0m\u001b[0;34m\u001b[0m\u001b[0m\n",
            "\u001b[0;32m<ipython-input-20-10b08fa27579>\u001b[0m in \u001b[0;36mget_retrieved_nodes\u001b[0;34m(query_str, vector_top_k, reranker_top_n, with_reranker)\u001b[0m\n\u001b[1;32m     30\u001b[0m             \u001b[0mservice_context\u001b[0m\u001b[0;34m=\u001b[0m\u001b[0mservice_context\u001b[0m\u001b[0;34m,\u001b[0m\u001b[0;34m\u001b[0m\u001b[0;34m\u001b[0m\u001b[0m\n\u001b[1;32m     31\u001b[0m         )\n\u001b[0;32m---> 32\u001b[0;31m         retrieved_nodes = reranker.postprocess_nodes(\n\u001b[0m\u001b[1;32m     33\u001b[0m             \u001b[0mretrieved_nodes\u001b[0m\u001b[0;34m,\u001b[0m \u001b[0mquery_bundle\u001b[0m\u001b[0;34m\u001b[0m\u001b[0;34m\u001b[0m\u001b[0m\n\u001b[1;32m     34\u001b[0m         )\n",
            "\u001b[0;32m/usr/local/lib/python3.10/dist-packages/llama_index/indices/postprocessor/types.py\u001b[0m in \u001b[0;36mpostprocess_nodes\u001b[0;34m(self, nodes, query_bundle, query_str)\u001b[0m\n\u001b[1;32m     47\u001b[0m         \u001b[0;32melse\u001b[0m\u001b[0;34m:\u001b[0m\u001b[0;34m\u001b[0m\u001b[0;34m\u001b[0m\u001b[0m\n\u001b[1;32m     48\u001b[0m             \u001b[0;32mpass\u001b[0m\u001b[0;34m\u001b[0m\u001b[0;34m\u001b[0m\u001b[0m\n\u001b[0;32m---> 49\u001b[0;31m         \u001b[0;32mreturn\u001b[0m \u001b[0mself\u001b[0m\u001b[0;34m.\u001b[0m\u001b[0m_postprocess_nodes\u001b[0m\u001b[0;34m(\u001b[0m\u001b[0mnodes\u001b[0m\u001b[0;34m,\u001b[0m \u001b[0mquery_bundle\u001b[0m\u001b[0;34m)\u001b[0m\u001b[0;34m\u001b[0m\u001b[0;34m\u001b[0m\u001b[0m\n\u001b[0m\u001b[1;32m     50\u001b[0m \u001b[0;34m\u001b[0m\u001b[0m\n\u001b[1;32m     51\u001b[0m     \u001b[0;34m@\u001b[0m\u001b[0mabstractmethod\u001b[0m\u001b[0;34m\u001b[0m\u001b[0;34m\u001b[0m\u001b[0m\n",
            "\u001b[0;32m/usr/local/lib/python3.10/dist-packages/llama_index/indices/postprocessor/llm_rerank.py\u001b[0m in \u001b[0;36m_postprocess_nodes\u001b[0;34m(self, nodes, query_bundle)\u001b[0m\n\u001b[1;32m     86\u001b[0m             \u001b[0mfmt_batch_str\u001b[0m \u001b[0;34m=\u001b[0m \u001b[0mself\u001b[0m\u001b[0;34m.\u001b[0m\u001b[0m_format_node_batch_fn\u001b[0m\u001b[0;34m(\u001b[0m\u001b[0mnodes_batch\u001b[0m\u001b[0;34m)\u001b[0m\u001b[0;34m\u001b[0m\u001b[0;34m\u001b[0m\u001b[0m\n\u001b[1;32m     87\u001b[0m             \u001b[0;31m# call each batch independently\u001b[0m\u001b[0;34m\u001b[0m\u001b[0;34m\u001b[0m\u001b[0m\n\u001b[0;32m---> 88\u001b[0;31m             raw_response = self.service_context.llm_predictor.predict(\n\u001b[0m\u001b[1;32m     89\u001b[0m                 \u001b[0mself\u001b[0m\u001b[0;34m.\u001b[0m\u001b[0mchoice_select_prompt\u001b[0m\u001b[0;34m,\u001b[0m\u001b[0;34m\u001b[0m\u001b[0;34m\u001b[0m\u001b[0m\n\u001b[1;32m     90\u001b[0m                 \u001b[0mcontext_str\u001b[0m\u001b[0;34m=\u001b[0m\u001b[0mfmt_batch_str\u001b[0m\u001b[0;34m,\u001b[0m\u001b[0;34m\u001b[0m\u001b[0;34m\u001b[0m\u001b[0m\n",
            "\u001b[0;32m/usr/local/lib/python3.10/dist-packages/llama_index/llm_predictor/base.py\u001b[0m in \u001b[0;36mpredict\u001b[0;34m(self, prompt, output_cls, **prompt_args)\u001b[0m\n\u001b[1;32m    189\u001b[0m             \u001b[0mmessages\u001b[0m \u001b[0;34m=\u001b[0m \u001b[0mprompt\u001b[0m\u001b[0;34m.\u001b[0m\u001b[0mformat_messages\u001b[0m\u001b[0;34m(\u001b[0m\u001b[0mllm\u001b[0m\u001b[0;34m=\u001b[0m\u001b[0mself\u001b[0m\u001b[0;34m.\u001b[0m\u001b[0m_llm\u001b[0m\u001b[0;34m,\u001b[0m \u001b[0;34m**\u001b[0m\u001b[0mprompt_args\u001b[0m\u001b[0;34m)\u001b[0m\u001b[0;34m\u001b[0m\u001b[0;34m\u001b[0m\u001b[0m\n\u001b[1;32m    190\u001b[0m             \u001b[0mmessages\u001b[0m \u001b[0;34m=\u001b[0m \u001b[0mself\u001b[0m\u001b[0;34m.\u001b[0m\u001b[0m_extend_messages\u001b[0m\u001b[0;34m(\u001b[0m\u001b[0mmessages\u001b[0m\u001b[0;34m)\u001b[0m\u001b[0;34m\u001b[0m\u001b[0;34m\u001b[0m\u001b[0m\n\u001b[0;32m--> 191\u001b[0;31m             \u001b[0mchat_response\u001b[0m \u001b[0;34m=\u001b[0m \u001b[0mself\u001b[0m\u001b[0;34m.\u001b[0m\u001b[0m_llm\u001b[0m\u001b[0;34m.\u001b[0m\u001b[0mchat\u001b[0m\u001b[0;34m(\u001b[0m\u001b[0mmessages\u001b[0m\u001b[0;34m)\u001b[0m\u001b[0;34m\u001b[0m\u001b[0;34m\u001b[0m\u001b[0m\n\u001b[0m\u001b[1;32m    192\u001b[0m             \u001b[0moutput\u001b[0m \u001b[0;34m=\u001b[0m \u001b[0mchat_response\u001b[0m\u001b[0;34m.\u001b[0m\u001b[0mmessage\u001b[0m\u001b[0;34m.\u001b[0m\u001b[0mcontent\u001b[0m \u001b[0;32mor\u001b[0m \u001b[0;34m\"\"\u001b[0m\u001b[0;34m\u001b[0m\u001b[0;34m\u001b[0m\u001b[0m\n\u001b[1;32m    193\u001b[0m         \u001b[0;32melse\u001b[0m\u001b[0;34m:\u001b[0m\u001b[0;34m\u001b[0m\u001b[0;34m\u001b[0m\u001b[0m\n",
            "\u001b[0;32m/usr/local/lib/python3.10/dist-packages/llama_index/llms/base.py\u001b[0m in \u001b[0;36mwrapped_llm_chat\u001b[0;34m(_self, messages, **kwargs)\u001b[0m\n\u001b[1;32m    185\u001b[0m                     },\n\u001b[1;32m    186\u001b[0m                 )\n\u001b[0;32m--> 187\u001b[0;31m                 \u001b[0mf_return_val\u001b[0m \u001b[0;34m=\u001b[0m \u001b[0mf\u001b[0m\u001b[0;34m(\u001b[0m\u001b[0m_self\u001b[0m\u001b[0;34m,\u001b[0m \u001b[0mmessages\u001b[0m\u001b[0;34m,\u001b[0m \u001b[0;34m**\u001b[0m\u001b[0mkwargs\u001b[0m\u001b[0;34m)\u001b[0m\u001b[0;34m\u001b[0m\u001b[0;34m\u001b[0m\u001b[0m\n\u001b[0m\u001b[1;32m    188\u001b[0m \u001b[0;34m\u001b[0m\u001b[0m\n\u001b[1;32m    189\u001b[0m                 \u001b[0;32mif\u001b[0m \u001b[0misinstance\u001b[0m\u001b[0;34m(\u001b[0m\u001b[0mf_return_val\u001b[0m\u001b[0;34m,\u001b[0m \u001b[0mGenerator\u001b[0m\u001b[0;34m)\u001b[0m\u001b[0;34m:\u001b[0m\u001b[0;34m\u001b[0m\u001b[0;34m\u001b[0m\u001b[0m\n",
            "\u001b[0;32m/usr/local/lib/python3.10/dist-packages/llama_index/llms/openai.py\u001b[0m in \u001b[0;36mchat\u001b[0;34m(self, messages, **kwargs)\u001b[0m\n\u001b[1;32m    169\u001b[0m         \u001b[0;32melse\u001b[0m\u001b[0;34m:\u001b[0m\u001b[0;34m\u001b[0m\u001b[0;34m\u001b[0m\u001b[0m\n\u001b[1;32m    170\u001b[0m             \u001b[0mchat_fn\u001b[0m \u001b[0;34m=\u001b[0m \u001b[0mcompletion_to_chat_decorator\u001b[0m\u001b[0;34m(\u001b[0m\u001b[0mself\u001b[0m\u001b[0;34m.\u001b[0m\u001b[0m_complete\u001b[0m\u001b[0;34m)\u001b[0m\u001b[0;34m\u001b[0m\u001b[0;34m\u001b[0m\u001b[0m\n\u001b[0;32m--> 171\u001b[0;31m         \u001b[0;32mreturn\u001b[0m \u001b[0mchat_fn\u001b[0m\u001b[0;34m(\u001b[0m\u001b[0mmessages\u001b[0m\u001b[0;34m,\u001b[0m \u001b[0;34m**\u001b[0m\u001b[0mkwargs\u001b[0m\u001b[0;34m)\u001b[0m\u001b[0;34m\u001b[0m\u001b[0;34m\u001b[0m\u001b[0m\n\u001b[0m\u001b[1;32m    172\u001b[0m \u001b[0;34m\u001b[0m\u001b[0m\n\u001b[1;32m    173\u001b[0m     \u001b[0;34m@\u001b[0m\u001b[0mllm_chat_callback\u001b[0m\u001b[0;34m(\u001b[0m\u001b[0;34m)\u001b[0m\u001b[0;34m\u001b[0m\u001b[0;34m\u001b[0m\u001b[0m\n",
            "\u001b[0;32m/usr/local/lib/python3.10/dist-packages/llama_index/llms/openai.py\u001b[0m in \u001b[0;36m_chat\u001b[0;34m(self, messages, **kwargs)\u001b[0m\n\u001b[1;32m    222\u001b[0m     \u001b[0;32mdef\u001b[0m \u001b[0m_chat\u001b[0m\u001b[0;34m(\u001b[0m\u001b[0mself\u001b[0m\u001b[0;34m,\u001b[0m \u001b[0mmessages\u001b[0m\u001b[0;34m:\u001b[0m \u001b[0mSequence\u001b[0m\u001b[0;34m[\u001b[0m\u001b[0mChatMessage\u001b[0m\u001b[0;34m]\u001b[0m\u001b[0;34m,\u001b[0m \u001b[0;34m**\u001b[0m\u001b[0mkwargs\u001b[0m\u001b[0;34m:\u001b[0m \u001b[0mAny\u001b[0m\u001b[0;34m)\u001b[0m \u001b[0;34m->\u001b[0m \u001b[0mChatResponse\u001b[0m\u001b[0;34m:\u001b[0m\u001b[0;34m\u001b[0m\u001b[0;34m\u001b[0m\u001b[0m\n\u001b[1;32m    223\u001b[0m         \u001b[0mmessage_dicts\u001b[0m \u001b[0;34m=\u001b[0m \u001b[0mto_openai_message_dicts\u001b[0m\u001b[0;34m(\u001b[0m\u001b[0mmessages\u001b[0m\u001b[0;34m)\u001b[0m\u001b[0;34m\u001b[0m\u001b[0;34m\u001b[0m\u001b[0m\n\u001b[0;32m--> 224\u001b[0;31m         response = self._client.chat.completions.create(\n\u001b[0m\u001b[1;32m    225\u001b[0m             \u001b[0mmessages\u001b[0m\u001b[0;34m=\u001b[0m\u001b[0mmessage_dicts\u001b[0m\u001b[0;34m,\u001b[0m\u001b[0;34m\u001b[0m\u001b[0;34m\u001b[0m\u001b[0m\n\u001b[1;32m    226\u001b[0m             \u001b[0mstream\u001b[0m\u001b[0;34m=\u001b[0m\u001b[0;32mFalse\u001b[0m\u001b[0;34m,\u001b[0m\u001b[0;34m\u001b[0m\u001b[0;34m\u001b[0m\u001b[0m\n",
            "\u001b[0;32m/usr/local/lib/python3.10/dist-packages/openai/_utils/_utils.py\u001b[0m in \u001b[0;36mwrapper\u001b[0;34m(*args, **kwargs)\u001b[0m\n\u001b[1;32m    297\u001b[0m                         \u001b[0mmsg\u001b[0m \u001b[0;34m=\u001b[0m \u001b[0;34mf\"Missing required argument: {quote(missing[0])}\"\u001b[0m\u001b[0;34m\u001b[0m\u001b[0;34m\u001b[0m\u001b[0m\n\u001b[1;32m    298\u001b[0m                 \u001b[0;32mraise\u001b[0m \u001b[0mTypeError\u001b[0m\u001b[0;34m(\u001b[0m\u001b[0mmsg\u001b[0m\u001b[0;34m)\u001b[0m\u001b[0;34m\u001b[0m\u001b[0;34m\u001b[0m\u001b[0m\n\u001b[0;32m--> 299\u001b[0;31m             \u001b[0;32mreturn\u001b[0m \u001b[0mfunc\u001b[0m\u001b[0;34m(\u001b[0m\u001b[0;34m*\u001b[0m\u001b[0margs\u001b[0m\u001b[0;34m,\u001b[0m \u001b[0;34m**\u001b[0m\u001b[0mkwargs\u001b[0m\u001b[0;34m)\u001b[0m\u001b[0;34m\u001b[0m\u001b[0;34m\u001b[0m\u001b[0m\n\u001b[0m\u001b[1;32m    300\u001b[0m \u001b[0;34m\u001b[0m\u001b[0m\n\u001b[1;32m    301\u001b[0m         \u001b[0;32mreturn\u001b[0m \u001b[0mwrapper\u001b[0m  \u001b[0;31m# type: ignore\u001b[0m\u001b[0;34m\u001b[0m\u001b[0;34m\u001b[0m\u001b[0m\n",
            "\u001b[0;32m/usr/local/lib/python3.10/dist-packages/openai/resources/chat/completions.py\u001b[0m in \u001b[0;36mcreate\u001b[0;34m(self, messages, model, frequency_penalty, function_call, functions, logit_bias, max_tokens, n, presence_penalty, response_format, seed, stop, stream, temperature, tool_choice, tools, top_p, user, extra_headers, extra_query, extra_body, timeout)\u001b[0m\n\u001b[1;32m    592\u001b[0m         \u001b[0mtimeout\u001b[0m\u001b[0;34m:\u001b[0m \u001b[0mfloat\u001b[0m \u001b[0;34m|\u001b[0m \u001b[0mhttpx\u001b[0m\u001b[0;34m.\u001b[0m\u001b[0mTimeout\u001b[0m \u001b[0;34m|\u001b[0m \u001b[0;32mNone\u001b[0m \u001b[0;34m|\u001b[0m \u001b[0mNotGiven\u001b[0m \u001b[0;34m=\u001b[0m \u001b[0mNOT_GIVEN\u001b[0m\u001b[0;34m,\u001b[0m\u001b[0;34m\u001b[0m\u001b[0;34m\u001b[0m\u001b[0m\n\u001b[1;32m    593\u001b[0m     ) -> ChatCompletion | Stream[ChatCompletionChunk]:\n\u001b[0;32m--> 594\u001b[0;31m         return self._post(\n\u001b[0m\u001b[1;32m    595\u001b[0m             \u001b[0;34m\"/chat/completions\"\u001b[0m\u001b[0;34m,\u001b[0m\u001b[0;34m\u001b[0m\u001b[0;34m\u001b[0m\u001b[0m\n\u001b[1;32m    596\u001b[0m             body=maybe_transform(\n",
            "\u001b[0;32m/usr/local/lib/python3.10/dist-packages/openai/_base_client.py\u001b[0m in \u001b[0;36mpost\u001b[0;34m(self, path, cast_to, body, options, files, stream, stream_cls)\u001b[0m\n\u001b[1;32m   1053\u001b[0m             \u001b[0mmethod\u001b[0m\u001b[0;34m=\u001b[0m\u001b[0;34m\"post\"\u001b[0m\u001b[0;34m,\u001b[0m \u001b[0murl\u001b[0m\u001b[0;34m=\u001b[0m\u001b[0mpath\u001b[0m\u001b[0;34m,\u001b[0m \u001b[0mjson_data\u001b[0m\u001b[0;34m=\u001b[0m\u001b[0mbody\u001b[0m\u001b[0;34m,\u001b[0m \u001b[0mfiles\u001b[0m\u001b[0;34m=\u001b[0m\u001b[0mto_httpx_files\u001b[0m\u001b[0;34m(\u001b[0m\u001b[0mfiles\u001b[0m\u001b[0;34m)\u001b[0m\u001b[0;34m,\u001b[0m \u001b[0;34m**\u001b[0m\u001b[0moptions\u001b[0m\u001b[0;34m\u001b[0m\u001b[0;34m\u001b[0m\u001b[0m\n\u001b[1;32m   1054\u001b[0m         )\n\u001b[0;32m-> 1055\u001b[0;31m         \u001b[0;32mreturn\u001b[0m \u001b[0mcast\u001b[0m\u001b[0;34m(\u001b[0m\u001b[0mResponseT\u001b[0m\u001b[0;34m,\u001b[0m \u001b[0mself\u001b[0m\u001b[0;34m.\u001b[0m\u001b[0mrequest\u001b[0m\u001b[0;34m(\u001b[0m\u001b[0mcast_to\u001b[0m\u001b[0;34m,\u001b[0m \u001b[0mopts\u001b[0m\u001b[0;34m,\u001b[0m \u001b[0mstream\u001b[0m\u001b[0;34m=\u001b[0m\u001b[0mstream\u001b[0m\u001b[0;34m,\u001b[0m \u001b[0mstream_cls\u001b[0m\u001b[0;34m=\u001b[0m\u001b[0mstream_cls\u001b[0m\u001b[0;34m)\u001b[0m\u001b[0;34m)\u001b[0m\u001b[0;34m\u001b[0m\u001b[0;34m\u001b[0m\u001b[0m\n\u001b[0m\u001b[1;32m   1056\u001b[0m \u001b[0;34m\u001b[0m\u001b[0m\n\u001b[1;32m   1057\u001b[0m     def patch(\n",
            "\u001b[0;32m/usr/local/lib/python3.10/dist-packages/openai/_base_client.py\u001b[0m in \u001b[0;36mrequest\u001b[0;34m(self, cast_to, options, remaining_retries, stream, stream_cls)\u001b[0m\n\u001b[1;32m    832\u001b[0m         \u001b[0mstream_cls\u001b[0m\u001b[0;34m:\u001b[0m \u001b[0mtype\u001b[0m\u001b[0;34m[\u001b[0m\u001b[0m_StreamT\u001b[0m\u001b[0;34m]\u001b[0m \u001b[0;34m|\u001b[0m \u001b[0;32mNone\u001b[0m \u001b[0;34m=\u001b[0m \u001b[0;32mNone\u001b[0m\u001b[0;34m,\u001b[0m\u001b[0;34m\u001b[0m\u001b[0;34m\u001b[0m\u001b[0m\n\u001b[1;32m    833\u001b[0m     ) -> ResponseT | _StreamT:\n\u001b[0;32m--> 834\u001b[0;31m         return self._request(\n\u001b[0m\u001b[1;32m    835\u001b[0m             \u001b[0mcast_to\u001b[0m\u001b[0;34m=\u001b[0m\u001b[0mcast_to\u001b[0m\u001b[0;34m,\u001b[0m\u001b[0;34m\u001b[0m\u001b[0;34m\u001b[0m\u001b[0m\n\u001b[1;32m    836\u001b[0m             \u001b[0moptions\u001b[0m\u001b[0;34m=\u001b[0m\u001b[0moptions\u001b[0m\u001b[0;34m,\u001b[0m\u001b[0;34m\u001b[0m\u001b[0;34m\u001b[0m\u001b[0m\n",
            "\u001b[0;32m/usr/local/lib/python3.10/dist-packages/openai/_base_client.py\u001b[0m in \u001b[0;36m_request\u001b[0;34m(self, cast_to, options, remaining_retries, stream, stream_cls)\u001b[0m\n\u001b[1;32m    875\u001b[0m             \u001b[0;31m# to completion before attempting to access the response text.\u001b[0m\u001b[0;34m\u001b[0m\u001b[0;34m\u001b[0m\u001b[0m\n\u001b[1;32m    876\u001b[0m             \u001b[0merr\u001b[0m\u001b[0;34m.\u001b[0m\u001b[0mresponse\u001b[0m\u001b[0;34m.\u001b[0m\u001b[0mread\u001b[0m\u001b[0;34m(\u001b[0m\u001b[0;34m)\u001b[0m\u001b[0;34m\u001b[0m\u001b[0;34m\u001b[0m\u001b[0m\n\u001b[0;32m--> 877\u001b[0;31m             \u001b[0;32mraise\u001b[0m \u001b[0mself\u001b[0m\u001b[0;34m.\u001b[0m\u001b[0m_make_status_error_from_response\u001b[0m\u001b[0;34m(\u001b[0m\u001b[0merr\u001b[0m\u001b[0;34m.\u001b[0m\u001b[0mresponse\u001b[0m\u001b[0;34m)\u001b[0m \u001b[0;32mfrom\u001b[0m \u001b[0;32mNone\u001b[0m\u001b[0;34m\u001b[0m\u001b[0;34m\u001b[0m\u001b[0m\n\u001b[0m\u001b[1;32m    878\u001b[0m         \u001b[0;32mexcept\u001b[0m \u001b[0mhttpx\u001b[0m\u001b[0;34m.\u001b[0m\u001b[0mTimeoutException\u001b[0m \u001b[0;32mas\u001b[0m \u001b[0merr\u001b[0m\u001b[0;34m:\u001b[0m\u001b[0;34m\u001b[0m\u001b[0;34m\u001b[0m\u001b[0m\n\u001b[1;32m    879\u001b[0m             \u001b[0;32mif\u001b[0m \u001b[0mretries\u001b[0m \u001b[0;34m>\u001b[0m \u001b[0;36m0\u001b[0m\u001b[0;34m:\u001b[0m\u001b[0;34m\u001b[0m\u001b[0;34m\u001b[0m\u001b[0m\n",
            "\u001b[0;31mAuthenticationError\u001b[0m: Error code: 401 - {'error': {'message': 'Incorrect API key provided: put API ****here. You can find your API key at https://platform.openai.com/account/api-keys.', 'type': 'invalid_request_error', 'param': None, 'code': 'invalid_api_key'}}"
          ]
        }
      ]
    },
    {
      "cell_type": "markdown",
      "source": [
        "When getting 10 chunks from the vector space and asking the llm to return the most important ones with respect to the query, we got the answer that we were looking for at the top! And even the second chunk contains information that is much more relevant than the other two chunks above."
      ],
      "metadata": {
        "id": "_FLhKpogogkj"
      }
    },
    {
      "cell_type": "code",
      "source": [
        "visualize_retrieved_nodes(new_nodes)"
      ],
      "metadata": {
        "id": "En15aOfh4e9k"
      },
      "execution_count": null,
      "outputs": []
    },
    {
      "cell_type": "markdown",
      "source": [
        "### Summarization"
      ],
      "metadata": {
        "id": "mgrg3qe-WQYs"
      }
    },
    {
      "cell_type": "markdown",
      "source": [
        "Another application of LLMs is their ability to summarize provided text in a way that is much more effective than prior methods. This is possible mainly due to the self-attention features of transformer architectures which allow them to understand context rather than words in isolation. It is true that this task is not a relatively new one, but prior methods such as using encoder-decoder models like BERT were limited by the context size of the input; furthermore, the quality of the output was also not as great, since the power that LLMs have achieved in the last 2 years has been in large part due to their size, which is significantly larger than the BERT-era models. Let's see an example of how to achieve this."
      ],
      "metadata": {
        "id": "YbYKte_vpA8m"
      }
    },
    {
      "cell_type": "markdown",
      "source": [
        "Here we're using the same articles as in the first example for simplicity's sake, but feel free to switch these out for whatever material you would like to test."
      ],
      "metadata": {
        "id": "Enru9RGzqTnp"
      }
    },
    {
      "cell_type": "code",
      "source": [
        "from llama_hub.web.news import NewsArticleReader\n",
        "\n",
        "reader = NewsArticleReader(use_nlp=False)\n",
        "\n",
        "urls=['https://lite.cnn.com/2023/11/01/tech/apple-ai-upgrades/index.html',\n",
        "      'https://lite.cnn.com/2023/11/01/media/ai-chatbots-scraping-reporting-news-media-alliance/index.html',\n",
        "      'https://lite.cnn.com/travel/day-of-the-dead-traditions-explained-cec/index.html'\n",
        "      ]\n",
        "\n",
        "docs = reader.load_data(urls)"
      ],
      "metadata": {
        "id": "nwU_tSO6hI45"
      },
      "execution_count": null,
      "outputs": []
    },
    {
      "cell_type": "markdown",
      "source": [
        "Loading the quantized model."
      ],
      "metadata": {
        "id": "GxvB0JMFqewZ"
      }
    },
    {
      "cell_type": "code",
      "source": [
        "import torch\n",
        "from transformers import BitsAndBytesConfig, pipeline\n",
        "\n",
        "\n",
        "quantization_config = BitsAndBytesConfig(\n",
        "    load_in_4bit=True,\n",
        "    bnb_4bit_compute_dtype=torch.float16,\n",
        "    bnb_4bit_quant_type=\"nf4\",\n",
        "    bnb_4bit_use_double_quant=True,\n",
        ")\n",
        "\n",
        "model_id = 'HuggingFaceH4/zephyr-7b-beta'\n",
        "\n",
        "summarizer = pipeline(\"text-generation\", model=model_id, tokenizer=model_id, model_kwargs = {'quantization_config': quantization_config})"
      ],
      "metadata": {
        "id": "FVEaxzU6UljU",
        "colab": {
          "base_uri": "https://localhost:8080/",
          "height": 49,
          "referenced_widgets": [
            "c9be2cadb6c342979c27d16c51409dc5",
            "9a1ead8603a544b0adb06e44a64c2845",
            "41f4463d07ed4be9b4be22e27aa8c96e",
            "aee0be8660ab49679b5128713feccc4a",
            "dc39e83e848d4fe8a48f09f212733df2",
            "e33e35c84b9c4b27af0f5126ba4b3a7c",
            "4b5bc021579c4685a4733cc864ae5498",
            "c26ad0d4761c4112a9dd400aa460dce1",
            "7d690800331a4c3481d25ac64857ee07",
            "053baf09ff3a4d6fa927346ac87e64df",
            "52102dede54f445698ca8226998aaf03"
          ]
        },
        "outputId": "5b1b303c-01c6-463f-a521-52afbaa84dbe"
      },
      "execution_count": null,
      "outputs": [
        {
          "output_type": "display_data",
          "data": {
            "text/plain": [
              "Loading checkpoint shards:   0%|          | 0/8 [00:00<?, ?it/s]"
            ],
            "application/vnd.jupyter.widget-view+json": {
              "version_major": 2,
              "version_minor": 0,
              "model_id": "c9be2cadb6c342979c27d16c51409dc5"
            }
          },
          "metadata": {}
        }
      ]
    },
    {
      "cell_type": "markdown",
      "source": [
        "Note here that the prompt we are providing is different than the one we specified for RAG above. This is how the model distinguishes what task is being requested."
      ],
      "metadata": {
        "id": "XvqGn3_uqiwr"
      }
    },
    {
      "cell_type": "code",
      "source": [
        "messages = [\n",
        "    {\n",
        "        \"role\": \"system\",\n",
        "        \"content\": \"You are a friendly chatbot who excels in creating summaries that are factually accurate with an eloquent tone.\",\n",
        "        },\n",
        "    {\n",
        "        \"role\": \"user\",\n",
        "        \"content\": f\"Generate a summary for the following text: {docs[1].text}\"\n",
        "        },\n",
        "]\n",
        "\n",
        "def format_response(response):\n",
        "  return response[0]['generated_text'].split('<|assistant|>')[1]\n",
        "\n",
        "\n",
        "\n",
        "prompt = summarizer.tokenizer.apply_chat_template(messages, tokenize=False, add_generation_prompt=True)\n",
        "\n",
        "sum = format_response(summarizer(prompt, min_new_tokens= 50, max_new_tokens=256, do_sample=True, temperature=0.4, top_k=50, top_p=0.95))\n",
        "print(sum)"
      ],
      "metadata": {
        "id": "Kij4hmr0s7Fm",
        "colab": {
          "base_uri": "https://localhost:8080/"
        },
        "outputId": "d5d5cee9-4a66-4f62-b356-0cc96e87741f"
      },
      "execution_count": null,
      "outputs": [
        {
          "output_type": "stream",
          "name": "stderr",
          "text": [
            "/usr/local/lib/python3.10/dist-packages/transformers/generation/utils.py:1473: UserWarning: You have modified the pretrained model configuration to control generation. This is a deprecated strategy to control generation and will be removed soon, in a future version. Please use and modify the model generation configuration (see https://huggingface.co/docs/transformers/generation_strategies#default-text-generation-configuration )\n",
            "  warnings.warn(\n"
          ]
        },
        {
          "output_type": "stream",
          "name": "stdout",
          "text": [
            "\n",
            "The News Media Alliance, representing nearly 2,000 US news outlets, has accused AI technology companies such as OpenAI and Google of using their content without permission to train their chatbots. The Alliance's research found that these firms have copied news, magazine, and digital media content to train their bots, with the AI companies giving greater weight to information published by credible sources than elsewhere on the web. The Alliance's CEO Danielle Coffey stated that most of these developers are not obtaining proper permissions through licensing agreements or compensating publishers for the use of their content. The Alliance rejected the argument that AI bots have simply learned facts by reading various sets of data, stating that models retain the expressions of facts that are contained in works in their copied training materials without ever absorbing any underlying concepts. Many major media companies have added code to their websites to protect their content from AI bots that scrape the web for information, but the Alliance's recommendations for news publishers to protect them from going extinct in this brave new world include policymakers recognising that the unauthorised use of copyrighted material to train AI bots is infringing and that publishers should be able to license the use of their content\n"
          ]
        }
      ]
    },
    {
      "cell_type": "markdown",
      "source": [
        "Wonderful! It returned a concise and factually accurate summary of the second article in our corpus. Note that hallucinations are something to be aware of and if the context where this is method is being applied is highly relying on the accuracy of the information, you may have to take additional steps to ensure that the output is factually accurate."
      ],
      "metadata": {
        "id": "mlzxn3tBqw_Z"
      }
    },
    {
      "cell_type": "markdown",
      "source": [
        "Below we are doing the same for all the articles in our corpus. Feel free to adjust the format and the output to what makes sense for your application."
      ],
      "metadata": {
        "id": "cSWCRfI0rheQ"
      }
    },
    {
      "cell_type": "code",
      "source": [
        "for i in range(len(docs)):\n",
        "  messages = [\n",
        "    {\n",
        "        \"role\": \"system\",\n",
        "        \"content\": \"You are a friendly chatbot who excels in creating summaries that are factually accurate with an eloquent tone.\",\n",
        "        },\n",
        "    {\n",
        "        \"role\": \"user\",\n",
        "        \"content\": f\"Generate a summary for the following text: {docs[i].text}\"\n",
        "        },\n",
        "  ]\n",
        "\n",
        "  prompt = summarizer.tokenizer.apply_chat_template(messages, tokenize=False, add_generation_prompt=True)\n",
        "\n",
        "  sum = format_response(summarizer(prompt, min_new_tokens= 50, max_new_tokens=256, do_sample=True, temperature=0.4, top_k=50, top_p=0.95))\n",
        "  print(f'Summary {i}: {sum} \\n')"
      ],
      "metadata": {
        "id": "K4XDiMm1sPNU",
        "colab": {
          "base_uri": "https://localhost:8080/"
        },
        "outputId": "b6c724ad-51cd-4996-d99c-8a42f25e8098"
      },
      "execution_count": null,
      "outputs": [
        {
          "output_type": "stream",
          "name": "stdout",
          "text": [
            "Summary 0: \n",
            "During a product launch event, Apple CEO Tim Cook unveiled the company's new custom-made M3 chips, which are designed to support advancements in artificial intelligence (AI) due to their 3 nanometer technology. The M3, M3 Pro, and M3 Pro Max chips promise faster computing, graphics, and longer-lasting battery life for Apple's latest MacBook Pro and iMac lineup. Analysts believe that Apple's vision for how it can support work in the AI field and harness the power of its new chip were evident from the event, as the company has been less forthcoming about its plans for an AI future compared to competitors like Microsoft, Google, and Meta. Apple's commitment to AI integration was solidified with the event, as the company showed how its Mac computers can be used for complex tasks such as DNA/RNA sequencing and galaxy mapping, and touted the devices' ability to handle AI workloads from anywhere in the world. The new chips come at a time when Apple is gaining ground in the traditional PC and laptop market but still ranks fourth behind Lenovo, Dell, and HP in the number of products shipped. Analysts suggest that Apple is looking to offset \n",
            "\n",
            "Summary 1: \n",
            "The News Media Alliance, a trade group representing nearly 2,000 news outlets in the US, has accused AI technology companies such as OpenAI and Google of using their content to train chatbots without permission. The alliance's research found that these companies have copied and used news, magazine, and digital media content to train their bots, giving greater credence to information published by credible publishers than material elsewhere across the web. The alliance's CEO Danielle Coffey argued that most of these developers are not obtaining proper permissions through licensing agreements or compensating publishers for the use of their content. The alliance rejected arguments that AI bots have simply learned facts by reading various sets of data, stating that models retain the expressions of facts that are contained in works in their copied training materials without ever absorbing any underlying concepts. Publishers have started taking defensive measures to protect their content from AI bots that scrape the web for information, but these measures only protect news organizations from future scraping. The alliance has recommended that policymakers recognize the unauthorized use of copyrighted material to train AI bots as infringing and that publishers should be able to license the use of their content efficiently and on fair terms. The alliance \n",
            "\n",
            "Summary 2: \n",
            "Día de los Muertos, also known as the Day of the Dead, is a traditional Mexican holiday with roots dating back thousands of years. Unlike Halloween, which is meant to ward off evil spirits, Day of the Dead is a tribute to the afterlife and a way to honor loved ones who have passed away. The holiday is celebrated from November 1 to November 2, during which it is believed that the spirits of the dead return home to spend time with their families. While the holiday is predominantly associated with Mexico, other countries also celebrate their own versions of Day of the Dead, such as the Philippines' Undas and Haiti's Fèt Gede. The holiday's origins can be traced back to rituals practiced by Indigenous peoples in the Americas, most notably the Aztecs. When the Spanish arrived and brought Catholicism, they incorporated their own holidays with Indigenous traditions, resulting in Day of the Dead. Traditions include visiting the graves of loved ones, cleaning and decorating them with flowers, and building ofrendas, or altars, to honor the deceased. The altars often include photos, papel picado, marigold petals, candles, pan de \n",
            "\n"
          ]
        }
      ]
    },
    {
      "cell_type": "markdown",
      "source": [
        "### Tag Generation"
      ],
      "metadata": {
        "id": "9GK_BI4WWT4J"
      }
    },
    {
      "cell_type": "markdown",
      "source": [
        "Tag Generation can be incredibly helpful for a company to help identify relevant information within their own data. Lets imagine, for example, that a company has tens of thousands of documents that are not labeled. Surely, having a human go through each one and label them accordingly would be ideal, but that would take a lot of time and money. Also, some labels are flexible. Some applications don't require the labels to fit strictly within a specific set of classes, which would moreso be the domain of a classifier model. But creating tags of themes found in the text can be extremely helpful to start filtering through the content."
      ],
      "metadata": {
        "id": "tlPkFGxorqNT"
      }
    },
    {
      "cell_type": "markdown",
      "source": [
        "Ingest documents and chunk, as above. Here, we use chunking as a standard practice, but it is possible that the set of documents would not require chunking, given that the entire document could fit in the LLMs context size (generally around 4096 tokens, currently). But even if it did fit in context size, it is also possible you may want to tag at a page or paragraph level for a more granular approach."
      ],
      "metadata": {
        "id": "Qd8u32LK3Kco"
      }
    },
    {
      "cell_type": "code",
      "source": [
        "from llama_hub.web.news import NewsArticleReader\n",
        "\n",
        "reader = NewsArticleReader(use_nlp=False)\n",
        "\n",
        "urls=['https://lite.cnn.com/2023/11/01/tech/apple-ai-upgrades/index.html',\n",
        "      'https://lite.cnn.com/2023/11/01/media/ai-chatbots-scraping-reporting-news-media-alliance/index.html',\n",
        "      'https://lite.cnn.com/travel/day-of-the-dead-traditions-explained-cec/index.html'\n",
        "      ]\n",
        "\n",
        "docs = reader.load_data(urls)"
      ],
      "metadata": {
        "id": "KrVlaZtWXFmj"
      },
      "execution_count": null,
      "outputs": []
    },
    {
      "cell_type": "code",
      "source": [
        "from llama_index.node_parser import SimpleNodeParser\n",
        "\n",
        "# Assuming documents have already been loaded\n",
        "\n",
        "# Initialize the parser\n",
        "parser = SimpleNodeParser.from_defaults(chunk_size=1000, chunk_overlap=20)\n",
        "\n",
        "# Parse documents into nodes\n",
        "nodes = parser.get_nodes_from_documents(docs)"
      ],
      "metadata": {
        "id": "qTJIyZnmYGf1"
      },
      "execution_count": null,
      "outputs": []
    },
    {
      "cell_type": "markdown",
      "source": [
        "Here we load our quantized model and specify in the prompt what we are trying to do (generate relevant tags) and in what format we would like the output [Tag1, Tag2, Tag3, Tag4]. Each model is going to respond differently to each prompt, so it's important to refine the prompt so that you get the desired output."
      ],
      "metadata": {
        "id": "_KvfXlRM3NR4"
      }
    },
    {
      "cell_type": "code",
      "source": [
        "from transformers import BitsAndBytesConfig, pipeline\n",
        "import torch\n",
        "\n",
        "\n",
        "quantization_config = BitsAndBytesConfig(\n",
        "    load_in_4bit=True,\n",
        "    bnb_4bit_compute_dtype=torch.float16,\n",
        "    bnb_4bit_quant_type=\"nf4\",\n",
        "    bnb_4bit_use_double_quant=True,\n",
        ")\n",
        "\n",
        "device = \"cuda\" # the device to load the model onto\n",
        "model_id = 'HuggingFaceH4/zephyr-7b-beta'\n",
        "\n",
        "model = pipeline(\"text-generation\", model=model_id, tokenizer=model_id, model_kwargs = {'quantization_config': quantization_config}, device_map = 'auto')\n",
        "\n",
        "# model = AutoModelForCausalLM.from_pretrained(\"mistralai/Mistral-7B-Instruct-v0.1\", quantization_config=quantization_config).to(device)\n",
        "# tokenizer = AutoTokenizer.from_pretrained(\"mistralai/Mistral-7B-Instruct-v0.1\")\n",
        "\n",
        "def get_tags(documents):\n",
        "    themes_list = []\n",
        "    for i in range(len(documents)):\n",
        "        messages = [{\"role\": \"user\", \"content\": f\"Given this response format: \\n [Tag1, Tag2, Tag3, Tag4] \\n Generate relevant tags for the following text: \\n {documents[i].text}\"}]\n",
        "        encodeds = model.tokenizer.apply_chat_template(messages, return_tensors=\"pt\")\n",
        "\n",
        "        model_inputs = encodeds.to(device)\n",
        "\n",
        "        generated_ids = model.generate(model_inputs, max_new_tokens=1000, do_sample=True)\n",
        "        decoded = tokenizer.batch_decode(generated_ids)\n",
        "        themes = [x.strip() for x in decoded[0].split('[/INST]')[1].split('</s>')[0].replace('[', '').replace(']','').replace('.','').replace('_', ' ').split(',') if len(x) > 1]\n",
        "        for n in range(len(themes)):\n",
        "            if ':' in themes[n]:\n",
        "                themes[n] = themes[n].split(':')[1]\n",
        "            else:\n",
        "                pass\n",
        "        themes_list.append(themes)\n",
        "        print(f'Completed: {(i/len(documents))*100}%')\n",
        "    return themes_list\n",
        "\n"
      ],
      "metadata": {
        "id": "_0dEco2hYZlU"
      },
      "execution_count": null,
      "outputs": []
    },
    {
      "cell_type": "code",
      "source": [
        "messages = [{\"role\": \"user\", \"content\": f\"Generate relevant tags for the following text: \\n {nodes[1].text}\"}]\n",
        "encodeds = model.tokenizer.apply_chat_template(messages, return_tensors=\"pt\", tokenize=False, add_generation_prompt=True)\n",
        "outputs = model(encodeds, max_new_tokens=256, do_sample=True, temperature=0.7, top_k=50, top_p=0.95)\n",
        "themes = outputs[0]['generated_text'].split('<|assistant|>')[1]\n"
      ],
      "metadata": {
        "id": "GLVu_SvQ0jzb"
      },
      "execution_count": null,
      "outputs": []
    },
    {
      "cell_type": "markdown",
      "source": [
        "After running the documents through the model, here we have the tags for chunk [1] which corresponds to the first document:"
      ],
      "metadata": {
        "id": "RWrMNuVY4uFF"
      }
    },
    {
      "cell_type": "code",
      "source": [
        "[x.strip() for x in themes.split(':')[1].split(',')]"
      ],
      "metadata": {
        "id": "EmuVzdqK2RSa"
      },
      "execution_count": null,
      "outputs": []
    },
    {
      "cell_type": "markdown",
      "source": [
        "An additional layer than can be added to this application is using the embedding space to cluster similar tags from all documents, in order to avoid redundancy in tags."
      ],
      "metadata": {
        "id": "TA-pmKFZ48NA"
      }
    },
    {
      "cell_type": "markdown",
      "source": [
        "### Sentiment Analysis"
      ],
      "metadata": {
        "id": "ypxr7eLvWXQg"
      }
    },
    {
      "cell_type": "markdown",
      "source": [
        "Sentiment Analysis is not a relatively new application. In fact, its improvement from the BERT-era models is only marginal. In this case, we are using a BERT derivative that was trained to classify tweets as \"positive\", \"neutral\" or \"negative\". You can fine-tune a model yourself to achieve this same task, but since one is already trained for us, we will use that."
      ],
      "metadata": {
        "id": "e3Mn22J95M7k"
      }
    },
    {
      "cell_type": "markdown",
      "source": [
        "Here we are manually preprocessing tweets, tokenizing them, then running them through the model to produce logits, which are then passed through a softmax function and returned as probabilities for a given class."
      ],
      "metadata": {
        "id": "VbCDYugr7Hnn"
      }
    },
    {
      "cell_type": "code",
      "execution_count": null,
      "metadata": {
        "id": "ON0dywCjWH9m"
      },
      "outputs": [],
      "source": [
        "from transformers import AutoModelForSequenceClassification\n",
        "from transformers import TFAutoModelForSequenceClassification\n",
        "from transformers import AutoTokenizer, AutoConfig\n",
        "import numpy as np\n",
        "from scipy.special import softmax\n",
        "\n",
        "# Preprocess text (username and link placeholders)\n",
        "\n",
        "def preprocess(text):\n",
        "    new_text = []\n",
        "    for t in text.split(\" \"):\n",
        "        t = '@user' if t.startswith('@') and len(t) > 1 else t\n",
        "        t = 'http' if t.startswith('http') else t\n",
        "        new_text.append(t)\n",
        "    return \" \".join(new_text)\n",
        "model_id = f\"cardiffnlp/twitter-roberta-base-sentiment-latest\"\n",
        "tokenizer = AutoTokenizer.from_pretrained(model_id)\n",
        "config = AutoConfig.from_pretrained(model_id)\n",
        "# PT\n",
        "model = AutoModelForSequenceClassification.from_pretrained(model_id)\n",
        "\n"
      ]
    },
    {
      "cell_type": "code",
      "source": [
        "text = \"Covid cases are increasing fast!\"\n",
        "text = preprocess(text)\n",
        "encoded_input = tokenizer(text, return_tensors='pt')\n",
        "output = model(**encoded_input)\n",
        "scores = output[0][0].detach().numpy()\n",
        "scores = softmax(scores)\n",
        "ranking = np.argsort(scores)\n",
        "ranking = ranking[::-1]\n",
        "for i in range(scores.shape[0]):\n",
        "    l = config.id2label[ranking[i]]\n",
        "    s = scores[ranking[i]]\n",
        "    print(f\"{i+1}) {l} {np.round(float(s), 4)}\")"
      ],
      "metadata": {
        "id": "tdbp7cH55a_A"
      },
      "execution_count": null,
      "outputs": []
    }
  ]
}