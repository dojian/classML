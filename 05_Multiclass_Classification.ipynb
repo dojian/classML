{
  "cells": [
    {
      "cell_type": "markdown",
      "metadata": {
        "id": "view-in-github",
        "colab_type": "text"
      },
      "source": [
        "<a href=\"https://colab.research.google.com/github/dojian/classML/blob/main/05_Multiclass_Classification.ipynb\" target=\"_parent\"><img src=\"https://colab.research.google.com/assets/colab-badge.svg\" alt=\"Open In Colab\"/></a>"
      ]
    },
    {
      "cell_type": "markdown",
      "metadata": {
        "id": "MKsRDH5ZUdfasdv"
      },
      "source": [
        "# Lab 5"
      ]
    },
    {
      "cell_type": "markdown",
      "metadata": {
        "id": "WxL_KZTS0fxq"
      },
      "source": [
        "### <span style=\"color:chocolate\"> Submission requirements </span>\n",
        "\n",
        "Additional points may be deducted if these requirements are not met:\n",
        "    \n",
        "* Comment your code\n",
        "* Each graph should have a title, labels for each axis, and (if needed) a legend. Each graph should be understandable on its own\n",
        "* Be sure your submitted notebook includes the output of your run (Hint: go to Kernel -> Restart Kernel and Run All Cells...)\n",
        "* Try and minimize the use of the global namespace (meaning, keep things inside functions)\n",
        "* Upload your .ipynb file to Gradescope when done\n",
        "---"
      ]
    },
    {
      "cell_type": "markdown",
      "metadata": {
        "id": "43534tdfgs-v"
      },
      "source": [
        "This lab extends binary logistic regression to [multi-class logistic regression](https://en.wikipedia.org/wiki/Multinomial_logistic_regression), which goes by a variety of names, including *softmax regression*, due to the use of the softmax function, which generalizes the logistic function."
      ]
    },
    {
      "cell_type": "code",
      "execution_count": 1,
      "metadata": {
        "id": "7X58hOMTUH-w"
      },
      "outputs": [],
      "source": [
        "# Import the libraries we'll use below.\n",
        "import numpy as np\n",
        "from matplotlib import pyplot as plt\n",
        "import pandas as pd\n",
        "import seaborn as sns  # for nicer plots\n",
        "sns.set(style=\"darkgrid\")  # default style\n",
        "\n",
        "import tensorflow as tf\n",
        "from tensorflow import keras\n",
        "from keras import metrics\n",
        "tf.get_logger().setLevel('INFO')"
      ]
    },
    {
      "cell_type": "markdown",
      "metadata": {
        "id": "4uq43KrCh8pe"
      },
      "source": [
        "We again load the Fashion MNIST dataset, though this time around, we'll use all 10 output classes."
      ]
    },
    {
      "cell_type": "code",
      "execution_count": 2,
      "metadata": {
        "colab": {
          "base_uri": "https://localhost:8080/"
        },
        "id": "load_auto_data_set_code",
        "outputId": "6a2f9260-21ce-436b-b7c1-1f3271e424af"
      },
      "outputs": [
        {
          "output_type": "stream",
          "name": "stdout",
          "text": [
            "Downloading data from https://storage.googleapis.com/tensorflow/tf-keras-datasets/train-labels-idx1-ubyte.gz\n",
            "29515/29515 [==============================] - 0s 0us/step\n",
            "Downloading data from https://storage.googleapis.com/tensorflow/tf-keras-datasets/train-images-idx3-ubyte.gz\n",
            "26421880/26421880 [==============================] - 0s 0us/step\n",
            "Downloading data from https://storage.googleapis.com/tensorflow/tf-keras-datasets/t10k-labels-idx1-ubyte.gz\n",
            "5148/5148 [==============================] - 0s 0us/step\n",
            "Downloading data from https://storage.googleapis.com/tensorflow/tf-keras-datasets/t10k-images-idx3-ubyte.gz\n",
            "4422102/4422102 [==============================] - 0s 0us/step\n"
          ]
        }
      ],
      "source": [
        "from keras.datasets import fashion_mnist\n",
        "\n",
        "# Load the Fashion MNIST dataset.\n",
        "(X_train, Y_train), (X_test, Y_test) = fashion_mnist.load_data()\n",
        "X_train = X_train / 255\n",
        "X_test = X_test / 255\n",
        "\n",
        "# Flatten Y_train and Y_test, so they become vectors of label values.\n",
        "# The label for X_train[0] is in Y_train[0].\n",
        "Y_train = Y_train.flatten()\n",
        "Y_test = Y_test.flatten()\n",
        "\n",
        "label_names = ['t-shirt', 'trouser', 'pullover', 'dress', 'coat',\n",
        "               'sandal', 'shirt', 'sneaker', 'bag', 'ankle boot']\n",
        "\n",
        "# Apply random shufflying to training examples.\n",
        "np.random.seed(0)\n",
        "indices = np.arange(X_train.shape[0])\n",
        "shuffled_indices = np.random.permutation(indices)\n",
        "X_train = X_train[shuffled_indices]\n",
        "Y_train = Y_train[shuffled_indices]"
      ]
    },
    {
      "cell_type": "markdown",
      "metadata": {
        "id": "PsfzNnVFwh0K"
      },
      "source": [
        "### Cross-Entropy Loss\n",
        "\n",
        "Recall the log loss function (also called binary cross-entropy):\n",
        "\n",
        "\\begin{equation}\n",
        "-y log(\\hat{y}) + (1−y)log(1−\\hat{y})\n",
        "\\end{equation}\n",
        "\n",
        "In the above formulation, it is assumed that $y$ is either 0 or 1, so either the left term or the right term is active for each example.\n",
        "\n",
        "The general form for cross-entropy is used when $y$ is assumed to be a label vector with a 1 in the index of the true label and a 0 everywhere else: $y=[0,0,0,0,0,0,0,1,0,0]$ implies a label of \"sneaker\" in this dataset (the 7th label). Accordingly, $\\hat{y}$ is a vector of predicted probabilities. Then the cross-entropy loss is simply:\n",
        "\n",
        "\\begin{equation}\n",
        "-\\sum_{j} y_j log(\\hat{y}_j)\n",
        "\\end{equation}\n",
        "\n",
        "As in the binary case, this summation will have exactly 1 non-zero term where the true label $y_j=1$.\n",
        "\n",
        "Note that this formulation is using a *dense* representation of the label. The corresponding *sparse* representation would use the non-zero index directly ($y=7$)."
      ]
    },
    {
      "cell_type": "markdown",
      "metadata": {
        "id": "09EpBz1w0_Nj"
      },
      "source": [
        "## Build a model\n",
        "\n",
        "Let's construct a model much like we did in the binary classification case, but now with a multi-class output."
      ]
    },
    {
      "cell_type": "markdown",
      "metadata": {
        "id": "75ur9Q_TOoxv"
      },
      "source": [
        "---\n",
        "### Exercise 1 (34 points)\n",
        "\n",
        "Fill in the NotImplemented parts of the build_model function below. You will need to make the following changes to generalize the binary case to the multi-class case:\n",
        "* The output will include n_classes probabilities instead of 1.\n",
        "* Use a softmax function instead of a sigmoid.\n",
        "* Use a [sparse_categorical_crossentropy](https://www.tensorflow.org/api_docs/python/tf/keras/losses/sparse_categorical_crossentropy) loss instead of binary_crossentropy. Note that \"sparse\" refers to the use of a sparse index (e.g. 7) to indicate the label rather than a dense vector (e.g. [0,0,0,0,0,0,0,1,0,0]).\n",
        "\n",
        "Check that training works below."
      ]
    },
    {
      "cell_type": "code",
      "execution_count": 4,
      "metadata": {
        "id": "-GeBGPGhQ5bu"
      },
      "outputs": [],
      "source": [
        "def build_model(n_classes, learning_rate=0.01):\n",
        "  \"\"\"Build a multi-class logistic regression model using Keras.\n",
        "\n",
        "  Args:\n",
        "    n_classes: Number of classes in the dataset\n",
        "    learning_rate: The desired learning rate for SGD.\n",
        "\n",
        "  Returns:\n",
        "    model: A tf.keras model (graph).\n",
        "  \"\"\"\n",
        "  tf.keras.backend.clear_session()\n",
        "  np.random.seed(0)\n",
        "  tf.random.set_seed(0)\n",
        "\n",
        "  model = keras.Sequential()\n",
        "  model.add(keras.layers.Flatten())\n",
        "  model.add(keras.layers.Dense(\n",
        "      # YOUR CODE HERE\n",
        "      units= n_classes,\n",
        "      activation='softmax'\n",
        "  ))\n",
        "\n",
        "  optimizer = tf.keras.optimizers.SGD(learning_rate=learning_rate)\n",
        "\n",
        "  # YOUR CODE HERE\n",
        "  model.compile(loss=tf.keras.losses.SparseCategoricalCrossentropy(),\n",
        "                optimizer=optimizer,\n",
        "                metrics=['accuracy'])\n",
        "  return model"
      ]
    },
    {
      "cell_type": "markdown",
      "metadata": {
        "id": "DO-d_F58Q-6O"
      },
      "source": [
        "---"
      ]
    },
    {
      "cell_type": "markdown",
      "metadata": {
        "id": "YNpKsUK6jt7-"
      },
      "source": [
        "Make sure your model trains. If you configured it properly, the training loss should get to ~0.55 after 5 epochs."
      ]
    },
    {
      "cell_type": "code",
      "execution_count": 5,
      "metadata": {
        "colab": {
          "base_uri": "https://localhost:8080/",
          "height": 405
        },
        "id": "dYRGXpzY1B5x",
        "outputId": "5aa351e2-ccff-489a-aa0d-6631e4073f96"
      },
      "outputs": [
        {
          "output_type": "stream",
          "name": "stdout",
          "text": [
            "Epoch 1/5\n",
            "844/844 [==============================] - 3s 2ms/step - loss: 1.0029 - accuracy: 0.6879 - val_loss: 0.7660 - val_accuracy: 0.7502\n",
            "Epoch 2/5\n",
            "844/844 [==============================] - 3s 3ms/step - loss: 0.6866 - accuracy: 0.7817 - val_loss: 0.6679 - val_accuracy: 0.7765\n",
            "Epoch 3/5\n",
            "844/844 [==============================] - 2s 3ms/step - loss: 0.6174 - accuracy: 0.8016 - val_loss: 0.6227 - val_accuracy: 0.7893\n",
            "Epoch 4/5\n",
            "844/844 [==============================] - 2s 2ms/step - loss: 0.5798 - accuracy: 0.8124 - val_loss: 0.5983 - val_accuracy: 0.7968\n",
            "Epoch 5/5\n",
            "844/844 [==============================] - 2s 2ms/step - loss: 0.5554 - accuracy: 0.8188 - val_loss: 0.5755 - val_accuracy: 0.8077\n"
          ]
        },
        {
          "output_type": "display_data",
          "data": {
            "text/plain": [
              "       loss  accuracy  val_loss  val_accuracy\n",
              "0  1.002879  0.687944  0.766029      0.750167\n",
              "1  0.686604  0.781722  0.667855      0.776500\n",
              "2  0.617384  0.801630  0.622716      0.789333\n",
              "3  0.579825  0.812352  0.598282      0.796833\n",
              "4  0.555441  0.818796  0.575466      0.807667"
            ],
            "text/html": [
              "\n",
              "  <div id=\"df-a2527055-044a-4724-8f4c-409015000f25\" class=\"colab-df-container\">\n",
              "    <div>\n",
              "<style scoped>\n",
              "    .dataframe tbody tr th:only-of-type {\n",
              "        vertical-align: middle;\n",
              "    }\n",
              "\n",
              "    .dataframe tbody tr th {\n",
              "        vertical-align: top;\n",
              "    }\n",
              "\n",
              "    .dataframe thead th {\n",
              "        text-align: right;\n",
              "    }\n",
              "</style>\n",
              "<table border=\"1\" class=\"dataframe\">\n",
              "  <thead>\n",
              "    <tr style=\"text-align: right;\">\n",
              "      <th></th>\n",
              "      <th>loss</th>\n",
              "      <th>accuracy</th>\n",
              "      <th>val_loss</th>\n",
              "      <th>val_accuracy</th>\n",
              "    </tr>\n",
              "  </thead>\n",
              "  <tbody>\n",
              "    <tr>\n",
              "      <th>0</th>\n",
              "      <td>1.002879</td>\n",
              "      <td>0.687944</td>\n",
              "      <td>0.766029</td>\n",
              "      <td>0.750167</td>\n",
              "    </tr>\n",
              "    <tr>\n",
              "      <th>1</th>\n",
              "      <td>0.686604</td>\n",
              "      <td>0.781722</td>\n",
              "      <td>0.667855</td>\n",
              "      <td>0.776500</td>\n",
              "    </tr>\n",
              "    <tr>\n",
              "      <th>2</th>\n",
              "      <td>0.617384</td>\n",
              "      <td>0.801630</td>\n",
              "      <td>0.622716</td>\n",
              "      <td>0.789333</td>\n",
              "    </tr>\n",
              "    <tr>\n",
              "      <th>3</th>\n",
              "      <td>0.579825</td>\n",
              "      <td>0.812352</td>\n",
              "      <td>0.598282</td>\n",
              "      <td>0.796833</td>\n",
              "    </tr>\n",
              "    <tr>\n",
              "      <th>4</th>\n",
              "      <td>0.555441</td>\n",
              "      <td>0.818796</td>\n",
              "      <td>0.575466</td>\n",
              "      <td>0.807667</td>\n",
              "    </tr>\n",
              "  </tbody>\n",
              "</table>\n",
              "</div>\n",
              "    <div class=\"colab-df-buttons\">\n",
              "\n",
              "  <div class=\"colab-df-container\">\n",
              "    <button class=\"colab-df-convert\" onclick=\"convertToInteractive('df-a2527055-044a-4724-8f4c-409015000f25')\"\n",
              "            title=\"Convert this dataframe to an interactive table.\"\n",
              "            style=\"display:none;\">\n",
              "\n",
              "  <svg xmlns=\"http://www.w3.org/2000/svg\" height=\"24px\" viewBox=\"0 -960 960 960\">\n",
              "    <path d=\"M120-120v-720h720v720H120Zm60-500h600v-160H180v160Zm220 220h160v-160H400v160Zm0 220h160v-160H400v160ZM180-400h160v-160H180v160Zm440 0h160v-160H620v160ZM180-180h160v-160H180v160Zm440 0h160v-160H620v160Z\"/>\n",
              "  </svg>\n",
              "    </button>\n",
              "\n",
              "  <style>\n",
              "    .colab-df-container {\n",
              "      display:flex;\n",
              "      gap: 12px;\n",
              "    }\n",
              "\n",
              "    .colab-df-convert {\n",
              "      background-color: #E8F0FE;\n",
              "      border: none;\n",
              "      border-radius: 50%;\n",
              "      cursor: pointer;\n",
              "      display: none;\n",
              "      fill: #1967D2;\n",
              "      height: 32px;\n",
              "      padding: 0 0 0 0;\n",
              "      width: 32px;\n",
              "    }\n",
              "\n",
              "    .colab-df-convert:hover {\n",
              "      background-color: #E2EBFA;\n",
              "      box-shadow: 0px 1px 2px rgba(60, 64, 67, 0.3), 0px 1px 3px 1px rgba(60, 64, 67, 0.15);\n",
              "      fill: #174EA6;\n",
              "    }\n",
              "\n",
              "    .colab-df-buttons div {\n",
              "      margin-bottom: 4px;\n",
              "    }\n",
              "\n",
              "    [theme=dark] .colab-df-convert {\n",
              "      background-color: #3B4455;\n",
              "      fill: #D2E3FC;\n",
              "    }\n",
              "\n",
              "    [theme=dark] .colab-df-convert:hover {\n",
              "      background-color: #434B5C;\n",
              "      box-shadow: 0px 1px 3px 1px rgba(0, 0, 0, 0.15);\n",
              "      filter: drop-shadow(0px 1px 2px rgba(0, 0, 0, 0.3));\n",
              "      fill: #FFFFFF;\n",
              "    }\n",
              "  </style>\n",
              "\n",
              "    <script>\n",
              "      const buttonEl =\n",
              "        document.querySelector('#df-a2527055-044a-4724-8f4c-409015000f25 button.colab-df-convert');\n",
              "      buttonEl.style.display =\n",
              "        google.colab.kernel.accessAllowed ? 'block' : 'none';\n",
              "\n",
              "      async function convertToInteractive(key) {\n",
              "        const element = document.querySelector('#df-a2527055-044a-4724-8f4c-409015000f25');\n",
              "        const dataTable =\n",
              "          await google.colab.kernel.invokeFunction('convertToInteractive',\n",
              "                                                    [key], {});\n",
              "        if (!dataTable) return;\n",
              "\n",
              "        const docLinkHtml = 'Like what you see? Visit the ' +\n",
              "          '<a target=\"_blank\" href=https://colab.research.google.com/notebooks/data_table.ipynb>data table notebook</a>'\n",
              "          + ' to learn more about interactive tables.';\n",
              "        element.innerHTML = '';\n",
              "        dataTable['output_type'] = 'display_data';\n",
              "        await google.colab.output.renderOutput(dataTable, element);\n",
              "        const docLink = document.createElement('div');\n",
              "        docLink.innerHTML = docLinkHtml;\n",
              "        element.appendChild(docLink);\n",
              "      }\n",
              "    </script>\n",
              "  </div>\n",
              "\n",
              "\n",
              "<div id=\"df-7fca400e-557d-4553-be68-b6e38663ec23\">\n",
              "  <button class=\"colab-df-quickchart\" onclick=\"quickchart('df-7fca400e-557d-4553-be68-b6e38663ec23')\"\n",
              "            title=\"Suggest charts.\"\n",
              "            style=\"display:none;\">\n",
              "\n",
              "<svg xmlns=\"http://www.w3.org/2000/svg\" height=\"24px\"viewBox=\"0 0 24 24\"\n",
              "     width=\"24px\">\n",
              "    <g>\n",
              "        <path d=\"M19 3H5c-1.1 0-2 .9-2 2v14c0 1.1.9 2 2 2h14c1.1 0 2-.9 2-2V5c0-1.1-.9-2-2-2zM9 17H7v-7h2v7zm4 0h-2V7h2v10zm4 0h-2v-4h2v4z\"/>\n",
              "    </g>\n",
              "</svg>\n",
              "  </button>\n",
              "\n",
              "<style>\n",
              "  .colab-df-quickchart {\n",
              "      --bg-color: #E8F0FE;\n",
              "      --fill-color: #1967D2;\n",
              "      --hover-bg-color: #E2EBFA;\n",
              "      --hover-fill-color: #174EA6;\n",
              "      --disabled-fill-color: #AAA;\n",
              "      --disabled-bg-color: #DDD;\n",
              "  }\n",
              "\n",
              "  [theme=dark] .colab-df-quickchart {\n",
              "      --bg-color: #3B4455;\n",
              "      --fill-color: #D2E3FC;\n",
              "      --hover-bg-color: #434B5C;\n",
              "      --hover-fill-color: #FFFFFF;\n",
              "      --disabled-bg-color: #3B4455;\n",
              "      --disabled-fill-color: #666;\n",
              "  }\n",
              "\n",
              "  .colab-df-quickchart {\n",
              "    background-color: var(--bg-color);\n",
              "    border: none;\n",
              "    border-radius: 50%;\n",
              "    cursor: pointer;\n",
              "    display: none;\n",
              "    fill: var(--fill-color);\n",
              "    height: 32px;\n",
              "    padding: 0;\n",
              "    width: 32px;\n",
              "  }\n",
              "\n",
              "  .colab-df-quickchart:hover {\n",
              "    background-color: var(--hover-bg-color);\n",
              "    box-shadow: 0 1px 2px rgba(60, 64, 67, 0.3), 0 1px 3px 1px rgba(60, 64, 67, 0.15);\n",
              "    fill: var(--button-hover-fill-color);\n",
              "  }\n",
              "\n",
              "  .colab-df-quickchart-complete:disabled,\n",
              "  .colab-df-quickchart-complete:disabled:hover {\n",
              "    background-color: var(--disabled-bg-color);\n",
              "    fill: var(--disabled-fill-color);\n",
              "    box-shadow: none;\n",
              "  }\n",
              "\n",
              "  .colab-df-spinner {\n",
              "    border: 2px solid var(--fill-color);\n",
              "    border-color: transparent;\n",
              "    border-bottom-color: var(--fill-color);\n",
              "    animation:\n",
              "      spin 1s steps(1) infinite;\n",
              "  }\n",
              "\n",
              "  @keyframes spin {\n",
              "    0% {\n",
              "      border-color: transparent;\n",
              "      border-bottom-color: var(--fill-color);\n",
              "      border-left-color: var(--fill-color);\n",
              "    }\n",
              "    20% {\n",
              "      border-color: transparent;\n",
              "      border-left-color: var(--fill-color);\n",
              "      border-top-color: var(--fill-color);\n",
              "    }\n",
              "    30% {\n",
              "      border-color: transparent;\n",
              "      border-left-color: var(--fill-color);\n",
              "      border-top-color: var(--fill-color);\n",
              "      border-right-color: var(--fill-color);\n",
              "    }\n",
              "    40% {\n",
              "      border-color: transparent;\n",
              "      border-right-color: var(--fill-color);\n",
              "      border-top-color: var(--fill-color);\n",
              "    }\n",
              "    60% {\n",
              "      border-color: transparent;\n",
              "      border-right-color: var(--fill-color);\n",
              "    }\n",
              "    80% {\n",
              "      border-color: transparent;\n",
              "      border-right-color: var(--fill-color);\n",
              "      border-bottom-color: var(--fill-color);\n",
              "    }\n",
              "    90% {\n",
              "      border-color: transparent;\n",
              "      border-bottom-color: var(--fill-color);\n",
              "    }\n",
              "  }\n",
              "</style>\n",
              "\n",
              "  <script>\n",
              "    async function quickchart(key) {\n",
              "      const quickchartButtonEl =\n",
              "        document.querySelector('#' + key + ' button');\n",
              "      quickchartButtonEl.disabled = true;  // To prevent multiple clicks.\n",
              "      quickchartButtonEl.classList.add('colab-df-spinner');\n",
              "      try {\n",
              "        const charts = await google.colab.kernel.invokeFunction(\n",
              "            'suggestCharts', [key], {});\n",
              "      } catch (error) {\n",
              "        console.error('Error during call to suggestCharts:', error);\n",
              "      }\n",
              "      quickchartButtonEl.classList.remove('colab-df-spinner');\n",
              "      quickchartButtonEl.classList.add('colab-df-quickchart-complete');\n",
              "    }\n",
              "    (() => {\n",
              "      let quickchartButtonEl =\n",
              "        document.querySelector('#df-7fca400e-557d-4553-be68-b6e38663ec23 button');\n",
              "      quickchartButtonEl.style.display =\n",
              "        google.colab.kernel.accessAllowed ? 'block' : 'none';\n",
              "    })();\n",
              "  </script>\n",
              "</div>\n",
              "    </div>\n",
              "  </div>\n"
            ]
          },
          "metadata": {}
        }
      ],
      "source": [
        "model = build_model(len(label_names), 0.01)\n",
        "\n",
        "history = model.fit(\n",
        "  x = X_train,\n",
        "  y = Y_train,\n",
        "  epochs=5,\n",
        "  batch_size=64,\n",
        "  validation_split=0.1,\n",
        "  verbose=1)\n",
        "\n",
        "history = pd.DataFrame(history.history)\n",
        "display(history)"
      ]
    },
    {
      "cell_type": "markdown",
      "metadata": {
        "id": "_ALSrErIrrjW"
      },
      "source": [
        "### Evaluation Metrics\n",
        "\n",
        "Classification metrics like accuracy, precision, and recall can all be derived from a confusion matrix which displays the counts for all pairs of true label and predicted label. Correct predictions are on the diagonal and incorrect predictions (confusions) are off the diagonal.\n",
        "\n",
        "First, we need the predicted labels from the model."
      ]
    },
    {
      "cell_type": "code",
      "execution_count": 6,
      "metadata": {
        "colab": {
          "base_uri": "https://localhost:8080/"
        },
        "id": "eBdgn9PUsHuq",
        "outputId": "50d3a7d9-2b10-41d1-c144-7925ec6bfd7e"
      },
      "outputs": [
        {
          "output_type": "stream",
          "name": "stdout",
          "text": [
            "313/313 [==============================] - 1s 1ms/step\n",
            "[9 2 1 ... 8 1 5]\n"
          ]
        }
      ],
      "source": [
        "# Recall that model.predict gives a vector of probabilities for each x.\n",
        "# Get labels by taking the argmax -- the index with the largest probability.\n",
        "test_predictions = np.argmax(model.predict(X_test), axis=-1)\n",
        "print(test_predictions)"
      ]
    },
    {
      "cell_type": "markdown",
      "metadata": {
        "id": "Pr8NOrQmfwsT"
      },
      "source": [
        "Next, we create a confusion matrix and produce an easy-to-read visualization."
      ]
    },
    {
      "cell_type": "code",
      "execution_count": 7,
      "metadata": {
        "colab": {
          "base_uri": "https://localhost:8080/",
          "height": 524
        },
        "id": "juOwp33Wx_bR",
        "outputId": "a4a4f870-8ae8-4448-a031-98e95d403401"
      },
      "outputs": [
        {
          "output_type": "display_data",
          "data": {
            "text/plain": [
              "<Figure size 640x480 with 1 Axes>"
            ],
            "image/png": "[encoded data removed]"
          },
          "metadata": {}
        }
      ],
      "source": [
        "# Create a confusion matrix as a 2D array.\n",
        "confusion_matrix = tf.math.confusion_matrix(Y_test, test_predictions)\n",
        "\n",
        "# Use a heatmap plot to display it.\n",
        "ax = sns.heatmap(confusion_matrix, annot=True, fmt='.3g', cmap='Blues',\n",
        "                 xticklabels=label_names, yticklabels=label_names, cbar=False)\n",
        "\n",
        "# Add axis labels.\n",
        "ax.set(xlabel='Predicted Label', ylabel='True Label')\n",
        "plt.show()"
      ]
    },
    {
      "cell_type": "markdown",
      "metadata": {
        "id": "k-BrE8eaEw60"
      },
      "source": [
        "---\n",
        "### Exercise 2 (33 points)\n",
        "\n",
        "Answer the following questions by studying the confusion matrix (above).\n",
        "\n",
        "1. Which class has the lowest precision? What is that precision? Which class has the highest precision? What is that precision?\n",
        "\n",
        "2. For the class 'sneaker', what class is the largest source of false negatives? What about the largest source of false positives?"
      ]
    },
    {
      "cell_type": "code",
      "source": [
        "num_classes = confusion_matrix.shape[0]\n",
        "precisions = []\n",
        "for i in range(num_classes):\n",
        "    tp = confusion_matrix[i, i]\n",
        "    fp = np.sum(confusion_matrix[:, i]) - tp  # Sum the column excluding the diagonal element\n",
        "\n",
        "    precision = tp / (tp + fp) if (tp + fp) > 0 else 0 # Avoid division by zero\n",
        "    precisions.append(precision)\n",
        "precisions"
      ],
      "metadata": {
        "colab": {
          "base_uri": "https://localhost:8080/"
        },
        "id": "3TA3XTQBIsmQ",
        "outputId": "4428f290-3dd7-4849-c287-b1849d556f38"
      },
      "execution_count": 8,
      "outputs": [
        {
          "output_type": "execute_result",
          "data": {
            "text/plain": [
              "[<tf.Tensor: shape=(), dtype=float64, numpy=0.781563126252505>,\n",
              " <tf.Tensor: shape=(), dtype=float64, numpy=0.9637681159420289>,\n",
              " <tf.Tensor: shape=(), dtype=float64, numpy=0.7044491525423728>,\n",
              " <tf.Tensor: shape=(), dtype=float64, numpy=0.8123195380173244>,\n",
              " <tf.Tensor: shape=(), dtype=float64, numpy=0.6681146828844483>,\n",
              " <tf.Tensor: shape=(), dtype=float64, numpy=0.9337899543378996>,\n",
              " <tf.Tensor: shape=(), dtype=float64, numpy=0.5796766743648961>,\n",
              " <tf.Tensor: shape=(), dtype=float64, numpy=0.8493408662900188>,\n",
              " <tf.Tensor: shape=(), dtype=float64, numpy=0.9059165858389913>,\n",
              " <tf.Tensor: shape=(), dtype=float64, numpy=0.8744142455482662>]"
            ]
          },
          "metadata": {},
          "execution_count": 8
        }
      ]
    },
    {
      "cell_type": "markdown",
      "metadata": {
        "id": "hfQfsvzpVwfK"
      },
      "source": [
        "*Written answer:*\n",
        "\n",
        "1. Shirt has the lowest precision at 0.5796; trouser has the highest precision at 0.9637.\n",
        "\n",
        "2. For the class 'sneaker', ankle boot class is the largest source of false negatives; sandal is the largest source of false positives"
      ]
    },
    {
      "cell_type": "markdown",
      "metadata": {
        "id": "bpFmB9v5V4CE"
      },
      "source": [
        "---"
      ]
    },
    {
      "cell_type": "markdown",
      "metadata": {
        "id": "epIqYiQhQpJC"
      },
      "source": [
        "## Analyze Errors\n",
        "\n",
        "A crucial part of the development cycle in Machine Learning is analyzing errors to help understand the shortcomings of the model. While typically we'd want to use the development data for this purpose to preserve the purity of the test set, we'll just use our test split for simplicity.\n",
        "\n",
        "Since the \"shirt\" class seems to be the source for a lot of errors, let's look at some of the confusions."
      ]
    },
    {
      "cell_type": "markdown",
      "metadata": {
        "id": "DLK2zFv2SWAy"
      },
      "source": [
        "---\n",
        "### Exercise 3 (33 points)\n",
        "\n",
        "1. Display 5 images with true label \"shirt\", but predicted label \"coat\" (false negatives for the \"shirt\" class).\n",
        "2. Display 5 images with predicted label \"shirt\", but true label \"coat\" (false positives for the \"shirt\" class)."
      ]
    },
    {
      "cell_type": "code",
      "execution_count": null,
      "metadata": {
        "id": "xUZfCG1ylVtp"
      },
      "outputs": [],
      "source": [
        "# YOUR CODE HERE"
      ]
    },
    {
      "cell_type": "markdown",
      "metadata": {
        "id": "DCmcQmKXlYK7"
      },
      "source": [
        "---"
      ]
    },
    {
      "cell_type": "markdown",
      "metadata": {
        "id": "dyMHf5pGjkxm"
      },
      "source": [
        "## Visualize Parameters\n",
        "Finally, here's some code that helps visualize the learned parameters for each class."
      ]
    },
    {
      "cell_type": "code",
      "execution_count": null,
      "metadata": {
        "id": "C-6ovDo8jvLH"
      },
      "outputs": [],
      "source": [
        "weights, biases = model.layers[1].get_weights()\n",
        "fig, axs = plt.subplots(2, 5, figsize=(16,7))\n",
        "for i, ax in enumerate(axs.flatten()):\n",
        "  ax.imshow(weights[:,i].reshape(28,28), cmap='PRGn')\n",
        "  ax.axis('off')\n",
        "  ax.set_title(label_names[i])\n",
        "plt.show()"
      ]
    }
  ],
  "metadata": {
    "colab": {
      "provenance": [],
      "toc_visible": true,
      "include_colab_link": true
    },
    "kernelspec": {
      "display_name": "Python 3",
      "language": "python",
      "name": "python3"
    },
    "language_info": {
      "codemirror_mode": {
        "name": "ipython",
        "version": 3
      },
      "file_extension": ".py",
      "mimetype": "text/x-python",
      "name": "python",
      "nbconvert_exporter": "python",
      "pygments_lexer": "ipython3",
      "version": "3.8.3"
    }
  },
  "nbformat": 4,
  "nbformat_minor": 0
}